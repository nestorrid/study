{
 "cells": [
  {
   "cell_type": "markdown",
   "metadata": {},
   "source": [
    "# Javascript变量\n",
    "\n",
    "在ES6规范下, JavaScript通过`let`关键字来定义变量, `const`关键字来定义常量."
   ]
  },
  {
   "cell_type": "code",
   "execution_count": 2,
   "metadata": {},
   "outputs": [
    {
     "name": "stderr",
     "output_type": "stream",
     "text": [
      "4:1 - Cannot assign to 'b' because it is a constant.\n"
     ]
    }
   ],
   "source": [
    "let a = 1\n",
    "const b = 2\n",
    "a = 2\n",
    "b = 3 // 向常量赋值报错\n",
    "console.log(a+b)"
   ]
  },
  {
   "cell_type": "markdown",
   "metadata": {},
   "source": [
    "## 动态数据类型\n",
    "\n",
    "在JavaScript中, 变量的类型是动态的. 即不同类型的数据可以赋值给同一个变量"
   ]
  },
  {
   "cell_type": "code",
   "execution_count": 5,
   "metadata": {},
   "outputs": [
    {
     "name": "stderr",
     "output_type": "stream",
     "text": [
      "4:1 - Type '{}' is not assignable to type 'string'.\n"
     ]
    }
   ],
   "source": [
    "let a = 'str';\n",
    "console.log(typeof(a));\n",
    "// Jupyter内核的问题导致不同类型变量无法赋值\n",
    "// 但是在Node或者浏览器下没有问题\n",
    "a = {};\n",
    "console.log(typeof(a));"
   ]
  },
  {
   "cell_type": "markdown",
   "metadata": {},
   "source": [
    "## JavaScript基础数据类型\n",
    "\n",
    "### 值类型\n",
    "\n",
    "* string\n",
    "* number\n",
    "* boolean\n",
    "* undefined\n",
    "* null\n",
    "\n",
    "### 引用类型\n",
    "\n",
    "* object\n",
    "* array\n",
    "* function"
   ]
  },
  {
   "cell_type": "markdown",
   "metadata": {},
   "source": [
    "#### 对象数据类型\n",
    "\n",
    "在JavaScript中使用`{}`表示一个对象, 也可以理解成词典. 可以通过`.`来直接访问成员的属性或者方法, 也可以使用`[]`来访问, 与词典的操作也想同."
   ]
  },
  {
   "cell_type": "code",
   "execution_count": 7,
   "metadata": {},
   "outputs": [
    {
     "name": "stdout",
     "output_type": "stream",
     "text": [
      "{ name: \u001b[32m'William'\u001b[39m, age: \u001b[33m35\u001b[39m }\n",
      "William\n"
     ]
    }
   ],
   "source": [
    "let person = {\n",
    "    name: 'Nestor',\n",
    "    age: 35\n",
    "}\n",
    "\n",
    "person.name = 'John'\n",
    "person['name'] = 'William'\n",
    "\n",
    "console.log(person)\n",
    "console.log(person.name)"
   ]
  },
  {
   "cell_type": "markdown",
   "metadata": {},
   "source": [
    "#### 数组类型"
   ]
  },
  {
   "cell_type": "code",
   "execution_count": 14,
   "metadata": {},
   "outputs": [
    {
     "name": "stdout",
     "output_type": "stream",
     "text": [
      "[ \u001b[32m'张三'\u001b[39m, \u001b[32m'李四'\u001b[39m, \u001b[32m'王五'\u001b[39m ]\n",
      "王五\n",
      "[ \u001b[32m'张三'\u001b[39m, \u001b[32m'李四'\u001b[39m, \u001b[32m'王五'\u001b[39m, \u001b[32m'赵六'\u001b[39m ]\n",
      "[ \u001b[32m'张三'\u001b[39m, \u001b[32m'李四'\u001b[39m, \u001b[32m'王五'\u001b[39m, \u001b[32m'赵六'\u001b[39m, \u001b[90m<1 empty item>\u001b[39m, \u001b[32m'啊'\u001b[39m ]\n",
      "\u001b[33m6\u001b[39m\n"
     ]
    }
   ],
   "source": [
    "let names = ['张三', '李四', '王五']\n",
    "console.log(names)\n",
    "console.log(names[2])\n",
    "names[3] = '赵六'\n",
    "console.log(names)\n",
    "names[5] = '啊'\n",
    "console.log(names)\n",
    "// 同样由于Jupyter内核的原因无法再数组中保存多种类型的数据.\n",
    "// names[4] = 4\n",
    "console.log(names.length)\n"
   ]
  },
  {
   "cell_type": "markdown",
   "metadata": {},
   "source": [
    "#### 函数类型\n",
    "函数本身也是一种类型, 但本质上属于一种特殊的对象类型."
   ]
  },
  {
   "cell_type": "code",
   "execution_count": 16,
   "metadata": {},
   "outputs": [
    {
     "name": "stdout",
     "output_type": "stream",
     "text": [
      "hi, John\n",
      "hi, William\n"
     ]
    }
   ],
   "source": [
    "function greet(name){\n",
    "    console.log('hi, ' + name);\n",
    "}\n",
    "\n",
    "greet('John');\n",
    "\n",
    "let sayhi = function(name){\n",
    "    console.log('hi, ' + name);\n",
    "}\n",
    "\n",
    "sayhi('William');"
   ]
  },
  {
   "cell_type": "markdown",
   "metadata": {},
   "source": [
    "# 运算符\n",
    "\n",
    "数学运算符:\n",
    "* +, -, *, /, %: 基本数学运算符\n",
    "* **: 幂运算符, 相当于其他语言的`^`\n",
    "* ++: 自增运算符, a++, 先取值后运算, ++a, 先运算后取值, 与C,Java等语言想同.\n",
    "\n",
    "赋值运算符: \n",
    "* = \n",
    "* +=, -=, *=, /=, %=, **=, <<=, >>=\n",
    "\n",
    "比较运算符:\n",
    "* <, >, >=, <=, ==, ===, !=="
   ]
  },
  {
   "cell_type": "markdown",
   "metadata": {},
   "source": [
    "> === 与 == 的区别\n",
    ">\n",
    "> 在JavaScript中, `===` 表示严格相等, 即类型与值都相等. 而`==`则会自动转化两个变量为想同的> 类型然后进行值的比较"
   ]
  },
  {
   "cell_type": "code",
   "execution_count": 20,
   "metadata": {},
   "outputs": [
    {
     "name": "stderr",
     "output_type": "stream",
     "text": [
      "2:13 - This comparison appears to be unintentional because the types 'boolean' and 'number' have no overlap.\n"
     ]
    }
   ],
   "source": [
    "console.log(1 === 1)    // true\n",
    "console.log('1' === 1)  // false\n",
    "console.log ('1' == 1)  // true\n",
    "console.log(true == 1)  // true\n"
   ]
  },
  {
   "cell_type": "markdown",
   "metadata": {},
   "source": [
    "三元运算符:\n",
    "expression ? value for true: value for false;"
   ]
  },
  {
   "cell_type": "code",
   "execution_count": 22,
   "metadata": {},
   "outputs": [
    {
     "name": "stdout",
     "output_type": "stream",
     "text": [
      "Great\n"
     ]
    }
   ],
   "source": [
    "let point = 90\n",
    "let result = point >= 90 ? 'Great' : 'Good'\n",
    "console.log(result);"
   ]
  },
  {
   "cell_type": "markdown",
   "metadata": {},
   "source": [
    "位运算符:\n",
    "* &, |, ^, ~\n",
    "* <<, >>: 左右位移"
   ]
  },
  {
   "cell_type": "markdown",
   "metadata": {},
   "source": [
    "逻辑运算符:\n",
    "\n",
    "* &&, ||\n",
    "\n",
    "在使用逻辑运算符时, 如果操作数不是布尔类型的值, js会将其视为类真或者类假值.\n",
    "\n",
    "类假值, 视为false的值, 包括:\n",
    "* undefined\n",
    "* null\n",
    "* 0\n",
    "* false\n",
    "* ''\n",
    "* NaN\n",
    "\n",
    "除此之外皆为true.\n",
    "\n",
    "逻辑运算符可以用来短路求解:"
   ]
  },
  {
   "cell_type": "code",
   "execution_count": 1,
   "metadata": {},
   "outputs": [
    {
     "name": "stdout",
     "output_type": "stream",
     "text": [
      "\u001b[33mtrue\u001b[39m\n",
      "\u001b[33m1\u001b[39m\n",
      "string\n",
      "\u001b[33m1\u001b[39m\n"
     ]
    }
   ],
   "source": [
    "console.log(false || true);\n",
    "console.log(false || 1);\n",
    "console.log(false || 'string');\n",
    "\n",
    "let select = undefined;\n",
    "let defaultValue = 1\n",
    "let current = select || defaultValue\n",
    "console.log(current)"
   ]
  },
  {
   "cell_type": "code",
   "execution_count": null,
   "metadata": {},
   "outputs": [],
   "source": []
  }
 ],
 "metadata": {
  "kernelspec": {
   "display_name": "JavaScript",
   "language": "javascript",
   "name": "jslab"
  },
  "language_info": {
   "file_extension": ".js",
   "mimetype": "text/javascript",
   "name": "javascript",
   "version": ""
  }
 },
 "nbformat": 4,
 "nbformat_minor": 2
}
