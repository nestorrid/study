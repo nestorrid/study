{
 "cells": [
  {
   "cell_type": "markdown",
   "metadata": {},
   "source": [
    "# 环境搭建\n",
    "\n",
    "1. 安装[Node.js](https://nodejs.org/en)\n",
    "2. 安装typescript编译器\n",
    "    ```bash\n",
    "    npm -i -g typescript\n",
    "\n",
    "    tsc -v\n",
    "    ```"
   ]
  },
  {
   "cell_type": "markdown",
   "metadata": {},
   "source": [
    "# 编译ts文件\n",
    "\n",
    "TS文件不能被浏览器直接运行, 需要将其编译成为js文件.\n",
    "\n",
    "```bash\n",
    "tsc [filename.ts]\n",
    "```"
   ]
  },
  {
   "cell_type": "markdown",
   "metadata": {},
   "source": [
    "# 配置ts编译器\n",
    "\n",
    "在项目目录下初始化tsc\n",
    "\n",
    "```bash\n",
    "tsc --init\n",
    "```\n",
    "\n",
    "完成后会生成一个`tsconfig.json`文件, 其中大部分配置都是注释, 通常可以开启几个比较常用的配置, 其他配置可以保持默认或者根据项目需要更改. 如下所示:\n",
    "\n",
    "```json\n",
    "{\n",
    "  \"compilerOptions\": {\n",
    "    \"rootDir\": \"./src\", \n",
    "    \"outDir\": \"./dist\", \n",
    "    \"removeComments\": true, \n",
    "    \"noEmitOnError\": true, \n",
    "    \"noUnusedLocals\": true,\n",
    "    \"noImplicitReturns\": true,  \n",
    "    \"noUnusedParameters\": true, \n",
    "    \"allowUnreachableCode\": false,\n",
    "    \"experimentalDecorators\": true,\n",
    "  }\n",
    "}\n",
    "```\n",
    "\n",
    "完成配置后, 直接在项目路径下运行`tsc`命令即可完成编译, 并将编译文件存入`dist`文件加下."
   ]
  },
  {
   "cell_type": "markdown",
   "metadata": {},
   "source": [
    "# Typescript 类型\n",
    "\n",
    "ts在js的基础类型之上还扩展了其他的数据类型:\n",
    "* any\n",
    "* unknown\n",
    "* never\n",
    "* enum\n",
    "* tuple\n",
    "\n",
    "要制定一个变量的类型, 可以通过`: type`来显示的声明, 如果声明变量时对其进行赋值, 那么ts会自动根据给定的值来推导变量的类型\n",
    "\n",
    "```typescript\n",
    "let num: number = 1\n",
    "let age = 2\n",
    "let name = 'john'\n",
    "```"
   ]
  },
  {
   "cell_type": "markdown",
   "metadata": {},
   "source": [
    "## tuple\n",
    "\n",
    "ts中的tuple在格式上类似数组, 都是使用`[]`来定义. 或者说ts中tuple的本质就是一个限定了元素数量以及每个位置上元素类型的特殊数组.\n",
    "\n",
    "在定义了tuple的类型之后, 如果数组的长度或者元素的类型不对, 都会直接出现编译错误."
   ]
  },
  {
   "cell_type": "code",
   "execution_count": 3,
   "metadata": {},
   "outputs": [
    {
     "name": "stdout",
     "output_type": "stream",
     "text": [
      "[ 1, 'john', 35 ]\n"
     ]
    }
   ],
   "source": [
    "let a: [number, string, number] = [1, 'john', 35]\n",
    "console.log(a)"
   ]
  },
  {
   "cell_type": "code",
   "execution_count": 6,
   "metadata": {},
   "outputs": [
    {
     "name": "stderr",
     "output_type": "stream",
     "text": [
      "1:50 - Type 'string' is not assignable to type 'number'.\n"
     ]
    }
   ],
   "source": [
    "let b: [number, string, number] = [1, 'john', '35']\n",
    "console.log(b)"
   ]
  },
  {
   "cell_type": "markdown",
   "metadata": {},
   "source": [
    "## enum\n",
    "\n",
    "通过ts关键字`enum`来定义枚举类型, 通常使用`PascalCase`来对枚举变量和成员进行命名.\n",
    "\n",
    "默认情况下, 枚举的第一个成员的值为0, 之后递增1, 可以手动指定首个成员的值, 则之后的值自动递增.\n",
    "\n",
    "或者指定成员的值为字符串, 在此情况下, 所有的成员都必须指定其字符串值."
   ]
  },
  {
   "cell_type": "code",
   "execution_count": 9,
   "metadata": {},
   "outputs": [
    {
     "name": "stdout",
     "output_type": "stream",
     "text": [
      "{ Red: 'red', Green: 'green', Blue: 'blue' }\n"
     ]
    },
    {
     "name": "stdout",
     "output_type": "stream",
     "text": [
      "{\n",
      "  '1': 'Small',\n",
      "  '2': 'Medium',\n",
      "  '3': 'Large',\n",
      "  Small: 1,\n",
      "  Medium: 2,\n",
      "  Large: 3\n",
      "}\n",
      "3\n"
     ]
    }
   ],
   "source": [
    "enum Color { Red = 'red', Green = 'green', Blue = 'blue'}\n",
    "\n",
    "enum Size { Small = 1, Medium, Large}\n",
    "\n",
    "let mySize = Size.Large\n",
    "\n",
    "console.log(Color);\n",
    "console.log(Size);\n",
    "console.log(mySize);"
   ]
  },
  {
   "cell_type": "markdown",
   "metadata": {},
   "source": [
    "> 直接使用`enum`关键字在进行编译的时候会将枚举类型编译为js函数. 但如果使用`const enum`则所有的枚举类型不会被编译到js文件中.\n",
    ">\n",
    "> 编译后的文件会直接使用枚举类型的值进行硬编码. 从而减小js文件的体积.\n",
    ">\n",
    "> 同时, 在ts文件中`const enum`则只能用作类型定义, 复制或取值.\n",
    "\n",
    "---"
   ]
  },
  {
   "cell_type": "markdown",
   "metadata": {},
   "source": [
    "## function\n",
    "\n",
    "在ts中, 函数可以显示的声明参数的类型和返回值, 如果返回值类型与声明不同则会出现编译错误.\n",
    "\n",
    "通常来说, 始终声明返回类型是最好的方式, 可以避免很多由于逻辑错误而非语法错误出现的异常."
   ]
  },
  {
   "cell_type": "code",
   "execution_count": 11,
   "metadata": {},
   "outputs": [],
   "source": [
    "function sum(a:number, b:number): number{\n",
    "    return a+b\n",
    "}"
   ]
  },
  {
   "cell_type": "markdown",
   "metadata": {},
   "source": [
    "默认情况下, 如果不指定返回值, js函数会隐式的返回`undefined`. \n",
    "\n",
    "如果在ts配置文件中设置了`\"noImplicitReturns\": true`, 则下面代码会出现编译错误.\n",
    "\n",
    "因为在条件不满足时隐式的返回了`undefined`.\n",
    "\n",
    "> 对代码严格的限定更有利于减少出现bug的可能性."
   ]
  },
  {
   "cell_type": "code",
   "execution_count": 12,
   "metadata": {},
   "outputs": [],
   "source": [
    "function sum(a:number, b:number): number{\n",
    "    if (a > b)\n",
    "        return a+b\n",
    "}"
   ]
  },
  {
   "cell_type": "markdown",
   "metadata": {},
   "source": [
    "### 可选参数\n",
    "\n",
    "在ts的参数声明中, 可以通过`?`来标记参数为可选参数. 也可以通过设置默认值来声明可选参数."
   ]
  },
  {
   "cell_type": "code",
   "execution_count": 13,
   "metadata": {},
   "outputs": [],
   "source": [
    "function func1(x: number, y?: number): number{\n",
    "    return x += (y || 0)\n",
    "}\n",
    "\n",
    "function func2(x: number, y = 0): number{\n",
    "    return x += y\n",
    "}"
   ]
  },
  {
   "cell_type": "markdown",
   "metadata": {},
   "source": [
    "## object\n",
    "\n",
    "在ts中, 直接将对象赋值给变量, 则会将对象的全部成员定义为该变量的类型."
   ]
  },
  {
   "cell_type": "code",
   "execution_count": 15,
   "metadata": {},
   "outputs": [
    {
     "name": "stderr",
     "output_type": "stream",
     "text": [
      "3:8 - Property 'phone' does not exist on type '{ id: number; name: string; }'.\n"
     ]
    }
   ],
   "source": [
    "let person = {id:1, name:'john'}\n",
    "// 由于变量类型仅包含两个属性, 为其不存在的属性赋值会出现编译错误\n",
    "person.phone = 123 "
   ]
  },
  {
   "cell_type": "markdown",
   "metadata": {},
   "source": [
    "可以通过类型声明来提前指定变量的类型, 然后对其进行赋值."
   ]
  },
  {
   "cell_type": "code",
   "execution_count": 17,
   "metadata": {},
   "outputs": [
    {
     "name": "stdout",
     "output_type": "stream",
     "text": [
      "123\n"
     ]
    }
   ],
   "source": [
    "let employee: {\n",
    "    //readonly关键字, 指定初始化之后不可修改\n",
    "    readonly id: number,\n",
    "    name: string,\n",
    "    phone?: string\n",
    "} = {id: 1, name:'john'}\n",
    "\n",
    "employee.phone = \"123\""
   ]
  },
  {
   "cell_type": "markdown",
   "metadata": {},
   "source": [
    "## type aliases\n",
    "\n",
    "类型别名, 通过`type`关键字来创建一种自定义类型, 可以方便的进行复用."
   ]
  },
  {
   "cell_type": "code",
   "execution_count": 18,
   "metadata": {},
   "outputs": [
    {
     "name": "stdout",
     "output_type": "stream",
     "text": [
      "{ id: 1, name: 'john' }\n"
     ]
    }
   ],
   "source": [
    "type Employee = {\n",
    "    readonly id: number,\n",
    "    name: string,\n",
    "    phone?: string\n",
    "}\n",
    "\n",
    "let emp: Employee = {id: 1, name:\"john\"}\n",
    "console.log(emp);"
   ]
  },
  {
   "cell_type": "markdown",
   "metadata": {},
   "source": [
    "## type union\n",
    "\n",
    "在进行类型声明时可以制定多个类型, 用`|`进行连接."
   ]
  },
  {
   "cell_type": "code",
   "execution_count": 19,
   "metadata": {},
   "outputs": [],
   "source": [
    "function kgToLbs(weight: number | string): number{\n",
    "    if (typeof weight === 'number')\n",
    "        return weight * 2.2\n",
    "    else\n",
    "        return parseInt(weight) * 2.2\n",
    "}"
   ]
  },
  {
   "cell_type": "markdown",
   "metadata": {},
   "source": [
    "## type intersection\n",
    "\n",
    "在ts中可以使用`&`来指定变量的类型为两种类型的并集. 类似接口的概念"
   ]
  },
  {
   "cell_type": "code",
   "execution_count": 20,
   "metadata": {},
   "outputs": [
    {
     "name": "stdout",
     "output_type": "stream",
     "text": [
      "{ drag: [Function: drag], resize: [Function: resize] }\n"
     ]
    }
   ],
   "source": [
    "type Dragable = {\n",
    "    drag: () => void\n",
    "}\n",
    "\n",
    "type Resizeable = {\n",
    "    resize: () => void\n",
    "}\n",
    "\n",
    "let button: Dragable & Resizeable = {\n",
    "    drag: () => {\n",
    "        console.log('drag button');\n",
    "    },\n",
    "    resize: () => {\n",
    "        console.log('resize button');\n",
    "        \n",
    "    }\n",
    "}\n",
    "console.log(button);\n"
   ]
  },
  {
   "cell_type": "markdown",
   "metadata": {},
   "source": [
    "## literal types\n",
    "\n",
    "字面量类型, 即将确定一个或多个值作为变量的类型, 则该变量的值只能在这些值之中. 否则就会出现编译错误."
   ]
  },
  {
   "cell_type": "code",
   "execution_count": 21,
   "metadata": {},
   "outputs": [],
   "source": [
    "type Metric = 'cm' | 'm' | 'km' | 'mm'\n",
    "\n",
    "let lengthUnit:Metric = 'km'"
   ]
  },
  {
   "cell_type": "markdown",
   "metadata": {},
   "source": [
    "## nullable type\n",
    "\n",
    "在js中, 调用方法时传递的参数可以是任意数量的值, 为传递的参数会隐式的传递`undefined`. 而在ts中参数列表不同则会出现编译错误.\n",
    "\n",
    "如果希望参数支持null则需要用到type union."
   ]
  },
  {
   "cell_type": "code",
   "execution_count": 27,
   "metadata": {},
   "outputs": [
    {
     "name": "stdout",
     "output_type": "stream",
     "text": [
      "no arg\n",
      "no arg\n",
      "test\n",
      "no arg\n"
     ]
    }
   ],
   "source": [
    "function myFunc(arg: string | null | undefined = null): void{\n",
    "    if (arg)\n",
    "        console.log(arg);\n",
    "    else\n",
    "        console.log('no arg');\n",
    "}\n",
    "\n",
    "myFunc(null)\n",
    "myFunc(undefined)\n",
    "myFunc(\"test\")\n",
    "// 没有默认值的参数不能省略\n",
    "myFunc()"
   ]
  },
  {
   "cell_type": "markdown",
   "metadata": {},
   "source": [
    "## Optional Chainning\n",
    "\n",
    "在对可能为空的变量进行操作时, 可以通过`?`来判断变量是否存在, 如果存在则执行操作, 否则为`undefined`.\n",
    "\n",
    "本质上, `arg?`的"
   ]
  },
  {
   "cell_type": "code",
   "execution_count": 43,
   "metadata": {},
   "outputs": [
    {
     "name": "stdout",
     "output_type": "stream",
     "text": [
      "john 2023-11-30T07:54:18.869Z\n",
      "action\n",
      "undefined undefined\n"
     ]
    }
   ],
   "source": [
    "type Person = {\n",
    "    firstName: String,\n",
    "    lastName?: String | null | undefined,\n",
    "    birthday?: Date\n",
    "    action?: () => void\n",
    "}\n",
    "\n",
    "function getPerson(id: number): Person | null{\n",
    "    return id === 0 ? null : {\n",
    "        firstName:'john', \n",
    "        birthday: new Date(),\n",
    "        action: () => console.log('action')\n",
    "    }\n",
    "}\n",
    "\n",
    "let john = getPerson(1)\n",
    "\n",
    "if (john !== null)\n",
    "    console.log(john.firstName, john.birthday);\n",
    "    john?.action?.();\n",
    "    \n",
    "\n",
    "john = getPerson(0)\n",
    "console.log(john?.firstName, john?.birthday?.toLocaleDateString())\n",
    "    \n"
   ]
  },
  {
   "cell_type": "markdown",
   "metadata": {},
   "source": [
    "## 空值运算符\n",
    "\n",
    "默认情况下, 通过`||`来进行判断时, 所有的类假值都被视为false, 包括:\n",
    "\n",
    "* `undefined`\n",
    "* `null`\n",
    "* `\"\"`\n",
    "* `0`\n",
    "* `false`\n",
    "\n",
    "但有时空字符串或者0同样应作为有效值, 需要进行的只有非空判断.\n",
    "\n",
    "比如速度为0, 代表静止, 但依然有效;\n",
    "\n",
    "余额为0, 但依然有效等等.\n",
    "\n",
    "此时可以使用空值运算符, `??` 当左边的值为空时使用右边的值."
   ]
  },
  {
   "cell_type": "code",
   "execution_count": 44,
   "metadata": {},
   "outputs": [
    {
     "name": "stdout",
     "output_type": "stream",
     "text": [
      "3.3333333333333335\n"
     ]
    }
   ],
   "source": [
    "function timeCost(distance: number, speed: number | null = null): number{\n",
    "    return distance / (speed ?? 30)\n",
    "}\n",
    "\n",
    "console.log(timeCost(100));\n"
   ]
  },
  {
   "cell_type": "markdown",
   "metadata": {},
   "source": [
    "## 类型断言\n",
    "\n",
    "如果通过一种方法获得的对象可能是子类对象, 可以通过`as`来告诉编译器其具体的子类类型. 或者通过`<type>`来显示的进行类型转换."
   ]
  },
  {
   "cell_type": "code",
   "execution_count": 45,
   "metadata": {},
   "outputs": [
    {
     "name": "stderr",
     "output_type": "stream",
     "text": [
      "1:13 - Cannot find name 'document'. Do you need to change your target library? Try changing the 'lib' compiler option to include 'dom'.\n",
      "1:47 - Cannot find name 'HTMLImageElement'.\n",
      "2:14 - Cannot find name 'HTMLInputElement'.\n",
      "2:31 - Cannot find name 'document'. Do you need to change your target library? Try changing the 'lib' compiler option to include 'dom'.\n"
     ]
    }
   ],
   "source": [
    "let image = document.getElementById('img') as HTMLImageElement\n",
    "let input = <HTMLInputElement>document.getElementById('input')"
   ]
  },
  {
   "cell_type": "markdown",
   "metadata": {},
   "source": [
    "## unknow 与 any\n",
    "\n",
    "* `any`代表的任何类型的对象, 如果使用any, 也就代表变量可以包含任何类型的方法. 所以无论进行什么方法的调用都不会出现编译错误. 但如果运行时对象没有该方法, 则会产生运行时错误.\n",
    "* `unknow` 代表未知类型, 此时调用任何类型的方法都会产生编译错误, 仅当进行了类型判断之后才能调用对应类型的方法."
   ]
  },
  {
   "cell_type": "code",
   "execution_count": 46,
   "metadata": {},
   "outputs": [
    {
     "name": "stderr",
     "output_type": "stream",
     "text": [
      "3:26 - Property 'toUpperCase' does not exist on type 'unknown'.\n"
     ]
    }
   ],
   "source": [
    "function render(document: unknown){\n",
    "    // unknow类型调用方法报错\n",
    "    console.log(document.toUpperCase())\n",
    "\n",
    "    if (typeof document === \"string\")\n",
    "        console.log(document.toUpperCase())\n",
    "}"
   ]
  },
  {
   "cell_type": "markdown",
   "metadata": {},
   "source": [
    "## never\n",
    "\n",
    "声明一个函数永远不会返回, 比如用于持续监听队列的函数, 或者专门抛出异常的函数等等."
   ]
  },
  {
   "cell_type": "code",
   "execution_count": 48,
   "metadata": {},
   "outputs": [
    {
     "name": "stderr",
     "output_type": "stream",
     "text": [
      "evalmachine.<anonymous>:8\n",
      "    throw new Error(message);\n",
      "    ^\n",
      "\n",
      "Error: message\n",
      "    at reject (evalmachine.<anonymous>:8:11)\n",
      "    at evalmachine.<anonymous>:11:1\n",
      "    at evalmachine.<anonymous>:14:3\n",
      "    at sigintHandlersWrap (node:vm:266:12)\n",
      "    at Script.runInThisContext (node:vm:119:14)\n",
      "    at Object.runInThisContext (node:vm:303:38)\n",
      "    at Object.execute (/opt/homebrew/lib/node_modules/tslab/dist/executor.js:160:38)\n",
      "    at JupyterHandlerImpl.handleExecuteImpl (/opt/homebrew/lib/node_modules/tslab/dist/jupyter.js:223:38)\n",
      "    at /opt/homebrew/lib/node_modules/tslab/dist/jupyter.js:181:57\n",
      "    at async JupyterHandlerImpl.handleExecute (/opt/homebrew/lib/node_modules/tslab/dist/jupyter.js:181:21)\n"
     ]
    }
   ],
   "source": [
    "// function queueListener(): never{\n",
    "    \n",
    "//     while (true){\n",
    "        \n",
    "//     }\n",
    "// }\n",
    "\n",
    "function reject(message: string): never {\n",
    "    throw new Error(message)\n",
    "}\n",
    "\n",
    "reject('message')\n",
    "console.log('this code will never run.')"
   ]
  },
  {
   "cell_type": "code",
   "execution_count": null,
   "metadata": {},
   "outputs": [],
   "source": []
  }
 ],
 "metadata": {
  "kernelspec": {
   "display_name": "TypeScript",
   "language": "typescript",
   "name": "tslab"
  },
  "language_info": {
   "codemirror_mode": {
    "mode": "typescript",
    "name": "javascript",
    "typescript": true
   },
   "file_extension": ".ts",
   "mimetype": "text/typescript",
   "name": "typescript",
   "version": "3.7.2"
  }
 },
 "nbformat": 4,
 "nbformat_minor": 2
}
