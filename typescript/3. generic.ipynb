{
 "cells": [
  {
   "cell_type": "markdown",
   "metadata": {},
   "source": [
    "# 范型\n",
    "\n",
    "与java的范型概念类似"
   ]
  },
  {
   "cell_type": "code",
   "execution_count": 1,
   "metadata": {},
   "outputs": [],
   "source": [
    "// 范型类\n",
    "class KeyValuePair<K, V>{\n",
    "    constructor(\n",
    "        public key: K,\n",
    "        public value: V) { }\n",
    "}\n",
    "\n",
    "let pair = new KeyValuePair(1, 'a')"
   ]
  },
  {
   "cell_type": "code",
   "execution_count": 3,
   "metadata": {},
   "outputs": [],
   "source": [
    "// 范型函数\n",
    "function wrapInArray<T>(value:T) {\n",
    "    return [value]\n",
    "}\n",
    "let numbers = wrapInArray(2)"
   ]
  },
  {
   "cell_type": "code",
   "execution_count": 5,
   "metadata": {},
   "outputs": [],
   "source": [
    "interface Result<T>{\n",
    "    data: T | null,\n",
    "    error: string | null\n",
    "}\n",
    "\n",
    "function fetch<T>(url: string): Result<T>{\n",
    "    return {data: null, error: null}\n",
    "}\n",
    "\n",
    "interface User{\n",
    "    name: string\n",
    "}\n",
    "\n",
    "interface Product{\n",
    "    title: string\n",
    "}\n",
    "\n",
    "let users = fetch<User>('url')\n",
    "users.data?.name\n",
    "let products = fetch<Product>('url')\n",
    "products.data?.title"
   ]
  },
  {
   "cell_type": "markdown",
   "metadata": {},
   "source": [
    "## 为范型添加约束\n",
    "\n",
    "通过`T extends Type [| other type ]`可以限制范型为指定的类或子类."
   ]
  },
  {
   "cell_type": "code",
   "execution_count": 6,
   "metadata": {},
   "outputs": [],
   "source": [
    "function echo<T extends number | string>(value: T): T{\n",
    "    return value\n",
    "}\n",
    "\n",
    "function echo2<T extends number | string>(value: T): T{\n",
    "    return value\n",
    "}\n",
    "\n",
    "class Person{\n",
    "    constructor(public name: string){}\n",
    "}\n",
    "\n",
    "function echo3<T extends Person>(value: T): T{\n",
    "    return value\n",
    "}\n",
    "\n",
    "function echo4<T extends {name:string}>(value: T): T{\n",
    "    return value\n",
    "}"
   ]
  },
  {
   "cell_type": "markdown",
   "metadata": {},
   "source": [
    "## 范型类的继承"
   ]
  },
  {
   "cell_type": "code",
   "execution_count": 10,
   "metadata": {},
   "outputs": [],
   "source": [
    "class Store<T>{\n",
    "    protected _objects: T[] = [];\n",
    "\n",
    "    add(obj: T){\n",
    "        this._objects.push(obj);\n",
    "    }\n",
    "\n",
    "    // 通过`keyof T` 可以指定范型T所包含的所有属性名\n",
    "    find(key: keyof T, value: unknown): T | undefined{\n",
    "        return this._objects.find(obj => obj[key] === value)\n",
    "    }\n",
    "}\n",
    "\n",
    "// 父类包含范型时, 子类也需要使用范型\n",
    "// <T extends {name:string}>代表只要包含字符串name属性的类型即可\n",
    "class SearchableStore<T extends {name:string}> extends Store<T>{\n",
    "    findObject(name: string): T | undefined{\n",
    "        return this._objects.find(obj => obj.name === name)\n",
    "    }\n",
    "}\n",
    "\n",
    "// 也可以直接在子类的定义中指定父类的范型\n",
    "class ProductStore extends Store<Product>{\n",
    "    filterByCategory(category: string): Product[]{\n",
    "        return []\n",
    "    }\n",
    "}"
   ]
  },
  {
   "cell_type": "markdown",
   "metadata": {},
   "source": [
    "## 通过范型完成类型映射"
   ]
  },
  {
   "cell_type": "code",
   "execution_count": 13,
   "metadata": {},
   "outputs": [],
   "source": [
    "interface Demo{\n",
    "    title: string;\n",
    "    price: number;\n",
    "}\n",
    "\n",
    "type Read_only<T> = {\n",
    "    readonly [K in keyof T]: T[K];\n",
    "}\n",
    "\n",
    "let d: Read_only<Demo> = {\n",
    "    title: 'a',\n",
    "    price: 2\n",
    "}"
   ]
  },
  {
   "cell_type": "code",
   "execution_count": null,
   "metadata": {},
   "outputs": [],
   "source": []
  }
 ],
 "metadata": {
  "kernelspec": {
   "display_name": "TypeScript",
   "language": "typescript",
   "name": "tslab"
  },
  "language_info": {
   "codemirror_mode": {
    "mode": "typescript",
    "name": "javascript",
    "typescript": true
   },
   "file_extension": ".ts",
   "mimetype": "text/typescript",
   "name": "typescript",
   "version": "3.7.2"
  }
 },
 "nbformat": 4,
 "nbformat_minor": 2
}
