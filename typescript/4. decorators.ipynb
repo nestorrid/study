{
 "cells": [
  {
   "cell_type": "markdown",
   "metadata": {},
   "source": [
    "# 装饰器\n",
    "\n",
    "概念与实现方式都python的装饰器类似"
   ]
  },
  {
   "cell_type": "code",
   "execution_count": 4,
   "metadata": {},
   "outputs": [
    {
     "name": "stdout",
     "output_type": "stream",
     "text": [
      "Component called with target: class UIComponent {\n",
      "}\n"
     ]
    }
   ],
   "source": [
    "function Component(target: Function) { \n",
    "    console.log('Component called with target: ' + target)\n",
    "    target.prototype.uniqueId = Date.now();\n",
    "    target.prototype.insertInDOM = () => { \n",
    "        console.log('Insert the component into the DOM...');\n",
    "    }\n",
    "}\n",
    "\n",
    "@Component\n",
    "class UIComponent { \n",
    "    \n",
    "}\n",
    "\n",
    "let ui = new UIComponent();"
   ]
  },
  {
   "cell_type": "code",
   "execution_count": 5,
   "metadata": {},
   "outputs": [
    {
     "name": "stdout",
     "output_type": "stream",
     "text": [
      "Component called with target: class UIButton extends exports.UIComponent {\n",
      "}\n"
     ]
    }
   ],
   "source": [
    "function Comp(value: number){\n",
    "    return function (target: Function) { \n",
    "        console.log('Component called with target: ' + target)\n",
    "        target.prototype.options = value\n",
    "        target.prototype.uniqueId = Date.now();\n",
    "        target.prototype.insertInDOM = () => { \n",
    "            console.log('Insert the component into the DOM...');\n",
    "        }\n",
    "    }\n",
    "}\n",
    "\n",
    "\n",
    "@Comp(1)\n",
    "class UIButton extends UIComponent { \n",
    "    \n",
    "}\n",
    "\n",
    "let btn = new UIButton();"
   ]
  },
  {
   "cell_type": "code",
   "execution_count": null,
   "metadata": {},
   "outputs": [],
   "source": []
  }
 ],
 "metadata": {
  "kernelspec": {
   "display_name": "TypeScript",
   "language": "typescript",
   "name": "tslab"
  },
  "language_info": {
   "codemirror_mode": {
    "mode": "typescript",
    "name": "javascript",
    "typescript": true
   },
   "file_extension": ".ts",
   "mimetype": "text/typescript",
   "name": "typescript",
   "version": "3.7.2"
  }
 },
 "nbformat": 4,
 "nbformat_minor": 2
}
