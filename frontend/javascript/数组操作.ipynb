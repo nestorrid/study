{
 "cells": [
  {
   "cell_type": "markdown",
   "metadata": {},
   "source": [
    "# 常用JavaScript数组操作"
   ]
  },
  {
   "cell_type": "code",
   "execution_count": 23,
   "metadata": {},
   "outputs": [
    {
     "name": "stdout",
     "output_type": "stream",
     "text": [
      "[ \u001b[33m3\u001b[39m, \u001b[33m4\u001b[39m, \u001b[33m4\u001b[39m, \u001b[33m5\u001b[39m ]\n",
      "[ \u001b[33m1\u001b[39m, \u001b[33m2\u001b[39m, \u001b[33m3\u001b[39m, \u001b[33m4\u001b[39m, \u001b[33m4\u001b[39m, \u001b[33m5\u001b[39m ]\n",
      "[ \u001b[33m1\u001b[39m, \u001b[33m2\u001b[39m, \u001b[33m3\u001b[39m, \u001b[33m4\u001b[39m, \u001b[33m4\u001b[39m ]\n"
     ]
    },
    {
     "name": "stdout",
     "output_type": "stream",
     "text": [
      "[ \u001b[33m2\u001b[39m, \u001b[33m3\u001b[39m, \u001b[33m4\u001b[39m, \u001b[33m4\u001b[39m ]\n",
      "slice: [ \u001b[33m2\u001b[39m, \u001b[33m3\u001b[39m ]\n",
      "[ \u001b[33m2\u001b[39m, \u001b[33m4\u001b[39m ]\n",
      "\u001b[33m1\u001b[39m\n",
      "\u001b[33m-1\u001b[39m\n",
      "\u001b[33m4\u001b[39m\n",
      "\u001b[33mfalse\u001b[39m\n"
     ]
    }
   ],
   "source": [
    "const numbers = [3, 4]\n",
    "\n",
    "//添加到末尾\n",
    "numbers.push(4, 5)\n",
    "console.log(numbers);\n",
    "\n",
    "//添加到开头\n",
    "numbers.unshift(1, 2)\n",
    "console.log(numbers);\n",
    "\n",
    "//获取末尾元素\n",
    "numbers.pop();\n",
    "console.log(numbers);\n",
    "\n",
    "//获取头元素\n",
    "numbers.shift();\n",
    "console.log(numbers);\n",
    "\n",
    "// 从指定开始下标到结束下标的子集, 负数表示倒数下标.\n",
    "let result = numbers.slice(0, 2);\n",
    "console.log('slice:', result);\n",
    "\n",
    "//从指定下标开始, 删除指定数量的元素\n",
    "numbers.splice(1, 2)\n",
    "console.log(numbers);\n",
    "\n",
    "//查找指定元素, 返回下标\n",
    "console.log(numbers.indexOf(4));\n",
    "\n",
    "//元素不存在返回-1\n",
    "console.log(numbers.indexOf(1));\n",
    "\n",
    "numbers.push(4, 4, 4)\n",
    "\n",
    "//获取元素最后一次匹配的下标\n",
    "console.log(numbers.lastIndexOf(4));\n",
    "\n",
    "//判断元素是否存在于数组中\n",
    "console.log(numbers.includes(5));\n"
   ]
  },
  {
   "cell_type": "markdown",
   "metadata": {},
   "source": [
    "## 在数组中查找对象"
   ]
  },
  {
   "cell_type": "code",
   "execution_count": 16,
   "metadata": {},
   "outputs": [
    {
     "name": "stdout",
     "output_type": "stream",
     "text": [
      "{ id: \u001b[33m1\u001b[39m, name: \u001b[32m'abc'\u001b[39m }\n",
      "\u001b[33m0\u001b[39m\n"
     ]
    }
   ],
   "source": [
    "const objs = [\n",
    "    {id:1, name:'abc'},\n",
    "    {id:2, name:'def'}\n",
    "]\n",
    "\n",
    "let result = objs.find(element => element.name.startsWith('a'))\n",
    "console.log(result);\n",
    "\n",
    "let resultIndex = objs.findIndex(element => element.name.startsWith('a'))\n",
    "console.log(resultIndex);"
   ]
  },
  {
   "cell_type": "markdown",
   "metadata": {},
   "source": [
    "#### 箭头函数\n",
    "\n",
    "在find方法中的参数是一个函数, 完整的写法应该是:"
   ]
  },
  {
   "cell_type": "code",
   "execution_count": 17,
   "metadata": {},
   "outputs": [
    {
     "name": "stdout",
     "output_type": "stream",
     "text": [
      "{ id: \u001b[33m1\u001b[39m, name: \u001b[32m'abc'\u001b[39m }\n",
      "{ id: \u001b[33m1\u001b[39m, name: \u001b[32m'abc'\u001b[39m }\n",
      "{ id: \u001b[33m1\u001b[39m, name: \u001b[32m'abc'\u001b[39m }\n"
     ]
    }
   ],
   "source": [
    "result = objs.find(function(element) {\n",
    "    return element.name.startsWith('a')\n",
    "})\n",
    "console.log(result);\n",
    "\n",
    "// 可以通过箭头函数的形式进行简写\n",
    "result = objs.find((element) => {\n",
    "    return element.name.startsWith('a')\n",
    "})\n",
    "console.log(result);\n",
    "\n",
    "//单行返回结果的代码可以省略{}和return, 单一参数可以省略()\n",
    "result = objs.find(element => element.name.startsWith('a'))\n",
    "console.log(result);\n"
   ]
  },
  {
   "cell_type": "markdown",
   "metadata": {},
   "source": [
    "## 清空数组"
   ]
  },
  {
   "cell_type": "code",
   "execution_count": 20,
   "metadata": {},
   "outputs": [
    {
     "name": "stdout",
     "output_type": "stream",
     "text": [
      "[]\n",
      "[]\n"
     ]
    }
   ],
   "source": [
    "const numbers = [1,2,3]\n",
    "numbers.length = 0\n",
    "console.log(numbers)\n",
    "\n",
    "const others = [1,2,3]\n",
    "others.splice(0, others.length)\n",
    "console.log(others);"
   ]
  },
  {
   "cell_type": "markdown",
   "metadata": {},
   "source": [
    "## 数组连接"
   ]
  },
  {
   "cell_type": "code",
   "execution_count": 25,
   "metadata": {},
   "outputs": [
    {
     "name": "stdout",
     "output_type": "stream",
     "text": [
      "[ \u001b[33m1\u001b[39m, \u001b[33m2\u001b[39m, \u001b[33m3\u001b[39m, \u001b[33m4\u001b[39m, \u001b[33m5\u001b[39m, \u001b[33m6\u001b[39m ]\n",
      "[\n",
      "  \u001b[33m0\u001b[39m, \u001b[33m1\u001b[39m, \u001b[33m2\u001b[39m, \u001b[33m3\u001b[39m,\n",
      "  \u001b[33m0\u001b[39m, \u001b[33m4\u001b[39m, \u001b[33m5\u001b[39m, \u001b[33m6\u001b[39m\n",
      "]\n"
     ]
    }
   ],
   "source": [
    "const first = [1,2,3]\n",
    "const second = [4,5,6]\n",
    "\n",
    "let combined = first.concat(second)\n",
    "console.log(combined);\n",
    "\n",
    "combined = [0, ...first, 0, ...second];\n",
    "console.log(combined);"
   ]
  },
  {
   "cell_type": "markdown",
   "metadata": {},
   "source": [
    "## join和split"
   ]
  },
  {
   "cell_type": "code",
   "execution_count": 27,
   "metadata": {},
   "outputs": [
    {
     "name": "stdout",
     "output_type": "stream",
     "text": [
      "1,2,3\n",
      "This-is-a-javascript-post-about-array\n"
     ]
    }
   ],
   "source": [
    "const numbers = [1,2,3];\n",
    "let joined = numbers.join(',');\n",
    "console.log(joined);\n",
    "\n",
    "const title = 'This is a javascript post about array'\n",
    "const slag = title.split(' ').join('-');\n",
    "console.log(slag);"
   ]
  },
  {
   "cell_type": "markdown",
   "metadata": {},
   "source": [
    "## 排序"
   ]
  },
  {
   "cell_type": "code",
   "execution_count": 30,
   "metadata": {},
   "outputs": [
    {
     "name": "stdout",
     "output_type": "stream",
     "text": [
      "[ \u001b[33m0\u001b[39m, \u001b[33m1\u001b[39m, \u001b[33m2\u001b[39m, \u001b[33m5\u001b[39m, \u001b[33m8\u001b[39m, \u001b[33m9\u001b[39m ]\n",
      "[ \u001b[33m9\u001b[39m, \u001b[33m8\u001b[39m, \u001b[33m5\u001b[39m, \u001b[33m2\u001b[39m, \u001b[33m1\u001b[39m, \u001b[33m0\u001b[39m ]\n"
     ]
    }
   ],
   "source": [
    "//值类型对象排序\n",
    "const numbers = [1, 5, 2, 8, 9, 0]\n",
    "numbers.sort();\n",
    "console.log(numbers);\n",
    "numbers.reverse();\n",
    "console.log(numbers);"
   ]
  },
  {
   "cell_type": "code",
   "execution_count": 32,
   "metadata": {},
   "outputs": [
    {
     "name": "stdout",
     "output_type": "stream",
     "text": [
      "[\n",
      "  { id: \u001b[33m1\u001b[39m, name: \u001b[32m'Java'\u001b[39m },\n",
      "  { id: \u001b[33m1\u001b[39m, name: \u001b[32m'JavaScript'\u001b[39m },\n",
      "  { id: \u001b[33m1\u001b[39m, name: \u001b[32m'Typescript'\u001b[39m },\n",
      "  { id: \u001b[33m1\u001b[39m, name: \u001b[32m'node.js'\u001b[39m }\n",
      "]\n"
     ]
    }
   ],
   "source": [
    "const objs = [\n",
    "    {id:1, name: 'node.js'},\n",
    "    {id:1, name: 'Typescript'},\n",
    "    {id:1, name: 'JavaScript'},\n",
    "    {id:1, name: 'Java'}\n",
    "]\n",
    "\n",
    "objs.sort((a,b) => {\n",
    "    if (a.name > b.name) return 1;\n",
    "    if (a.name < b.name) return -1;\n",
    "    return 0;\n",
    "})\n",
    "\n",
    "console.log(objs);"
   ]
  },
  {
   "cell_type": "markdown",
   "metadata": {},
   "source": [
    "## 数组验证"
   ]
  },
  {
   "cell_type": "code",
   "execution_count": 36,
   "metadata": {},
   "outputs": [
    {
     "name": "stdout",
     "output_type": "stream",
     "text": [
      "\u001b[33mtrue\u001b[39m\n",
      "\u001b[33mfalse\u001b[39m\n",
      "\u001b[33mtrue\u001b[39m\n"
     ]
    }
   ],
   "source": [
    "let numbers = [1,2,3]\n",
    "let result = numbers.every(value => value > 0)\n",
    "console.log(result);\n",
    "\n",
    "numbers = [0, 1, 2, 3]\n",
    "result = numbers.every(value => value > 0)\n",
    "console.log(result);\n",
    "\n",
    "result = numbers.some(value => value > 0)"
   ]
  },
  {
   "cell_type": "markdown",
   "metadata": {},
   "source": [
    "## 数组过滤"
   ]
  },
  {
   "cell_type": "code",
   "execution_count": 38,
   "metadata": {},
   "outputs": [
    {
     "name": "stdout",
     "output_type": "stream",
     "text": [
      "[ \u001b[33m1\u001b[39m, \u001b[33m2\u001b[39m, \u001b[33m3\u001b[39m ]\n"
     ]
    }
   ],
   "source": [
    "const numbers = [1, -1, -2, 2, 3]\n",
    "let result = numbers.filter(value => value > 0)\n",
    "console.log(result);\n"
   ]
  },
  {
   "cell_type": "markdown",
   "metadata": {},
   "source": [
    "## 数组映射"
   ]
  },
  {
   "cell_type": "code",
   "execution_count": 39,
   "metadata": {},
   "outputs": [
    {
     "name": "stdout",
     "output_type": "stream",
     "text": [
      "[ \u001b[32m'<li>1</li>'\u001b[39m, \u001b[32m'<li>2</li>'\u001b[39m, \u001b[32m'<li>3</li>'\u001b[39m ]\n"
     ]
    }
   ],
   "source": [
    "const numbers = [1, 2, 3]\n",
    "let result = numbers.map(n => `<li>${n}</li>`)\n",
    "console.log(result);"
   ]
  },
  {
   "cell_type": "markdown",
   "metadata": {},
   "source": [
    "> 在进行数组映射时, 不能直接返回一个`{}`对象, 否则会被编译器将对象的内容解析为代码段\n",
    ">\n",
    "> 用`()`将对象包裹起来即可\n",
    ">\n",
    "> 也不能使用`{}`进行包裹, 否则需要添加`return`关键字"
   ]
  },
  {
   "cell_type": "code",
   "execution_count": 45,
   "metadata": {},
   "outputs": [
    {
     "name": "stdout",
     "output_type": "stream",
     "text": [
      "[ \u001b[90mundefined\u001b[39m, \u001b[90mundefined\u001b[39m, \u001b[90mundefined\u001b[39m ]\n",
      "[ { id: \u001b[33m1\u001b[39m }, { id: \u001b[33m2\u001b[39m }, { id: \u001b[33m3\u001b[39m } ]\n",
      "[ \u001b[90mundefined\u001b[39m, \u001b[90mundefined\u001b[39m, \u001b[90mundefined\u001b[39m ]\n",
      "[ { id: \u001b[33m1\u001b[39m }, { id: \u001b[33m2\u001b[39m }, { id: \u001b[33m3\u001b[39m } ]\n"
     ]
    }
   ],
   "source": [
    "const numbers = [1, 2, 3]\n",
    "console.log(numbers.map(n => {id: n}));\n",
    "\n",
    "console.log(numbers.map(n => ({id: n})));\n",
    "\n",
    "console.log(numbers.map(n => {{id: n}}));\n",
    "\n",
    "console.log(numbers.map(n => {return {id: n}}));"
   ]
  },
  {
   "cell_type": "markdown",
   "metadata": {},
   "source": [
    "## 缩减数组\n",
    "\n",
    "通过`reduce`方法指定一个算法, 用来将数组中的元素合并, 比如求和, 取最大值等"
   ]
  },
  {
   "cell_type": "code",
   "execution_count": 47,
   "metadata": {},
   "outputs": [
    {
     "name": "stdout",
     "output_type": "stream",
     "text": [
      "\u001b[33m15\u001b[39m\n"
     ]
    },
    {
     "name": "stdout",
     "output_type": "stream",
     "text": [
      "\u001b[33m5\u001b[39m\n"
     ]
    }
   ],
   "source": [
    "const numbers = [1,2,3,4,5]\n",
    "\n",
    "let result = numbers.reduce((a,b) => a + b)\n",
    "console.log(result);\n",
    "\n",
    "result = numbers.reduce(\n",
    "    (a,b) => a > b? a : b\n",
    ")\n",
    "console.log(result);"
   ]
  }
 ],
 "metadata": {
  "kernelspec": {
   "display_name": "JavaScript",
   "language": "javascript",
   "name": "jslab"
  },
  "language_info": {
   "file_extension": ".js",
   "mimetype": "text/javascript",
   "name": "javascript",
   "version": ""
  }
 },
 "nbformat": 4,
 "nbformat_minor": 2
}
