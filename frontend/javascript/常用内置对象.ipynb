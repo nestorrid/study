{
 "cells": [
  {
   "cell_type": "markdown",
   "metadata": {},
   "source": [
    "# JavaScript常用内置对象\n",
    "\n",
    "[官方文档](https://www.w3cschool.cn/javascript/dict)\n",
    "\n",
    "## Math\n",
    "\n",
    "用于进行数学计算\n",
    "\n",
    "## String\n",
    "\n",
    "字符串对象\n",
    "\n",
    "## Date\n",
    "\n",
    "日期对象\n",
    "\n",
    "## 模板语法\n",
    "\n",
    "通过使用\\`\\`来将字符串包裹起来, 则可以保留字符串模板的格式 "
   ]
  },
  {
   "cell_type": "code",
   "execution_count": 7,
   "metadata": {},
   "outputs": [
    {
     "name": "stdout",
     "output_type": "stream",
     "text": [
      "hi John,\n",
      "\n",
      "This is the 'first' message.\n",
      "from Nestor.\n",
      "\n",
      "Best regards.\n"
     ]
    }
   ],
   "source": [
    "const from = 'Nestor'\n",
    "const to = 'John'\n",
    "const message = \n",
    "`hi ${to},\n",
    "\n",
    "This is the 'first' message.\n",
    "from ${from}.\n",
    "\n",
    "Best regards.`\n",
    "\n",
    "console.log(message);"
   ]
  },
  {
   "cell_type": "code",
   "execution_count": null,
   "metadata": {},
   "outputs": [],
   "source": []
  }
 ],
 "metadata": {
  "kernelspec": {
   "display_name": "JavaScript",
   "language": "javascript",
   "name": "jslab"
  },
  "language_info": {
   "file_extension": ".js",
   "mimetype": "text/javascript",
   "name": "javascript",
   "version": ""
  }
 },
 "nbformat": 4,
 "nbformat_minor": 2
}
