{
 "cells": [
  {
   "cell_type": "markdown",
   "metadata": {},
   "source": [
    "# TypeScript 面相对象编程"
   ]
  },
  {
   "cell_type": "markdown",
   "metadata": {},
   "source": [
    "## 类\n",
    "\n",
    "基本的类定义:"
   ]
  },
  {
   "cell_type": "code",
   "execution_count": 5,
   "metadata": {},
   "outputs": [
    {
     "name": "stdout",
     "output_type": "stream",
     "text": [
      "Account { id: 1, owner: 'Nestor', balance: 100 }\n",
      "Nestor\n",
      "200\n",
      "object\n",
      "true\n"
     ]
    }
   ],
   "source": [
    "class Account {\n",
    "    readonly id: number;\n",
    "    owner: string;\n",
    "    balance: number;\n",
    "    nickname?: string;\n",
    "\n",
    "    constructor(id: number, owner: string, balance: number) {\n",
    "        this.id = id;\n",
    "        this.owner = owner;\n",
    "        this.balance = balance;\n",
    "    }\n",
    "\n",
    "    deposit(amount: number): void { \n",
    "        if (amount <= 0)\n",
    "            throw new Error(\"amount must be positive\")\n",
    "        this.balance += amount;\n",
    "    }\n",
    "}\n",
    "\n",
    "let account = new Account(1, 'Nestor', 100)\n",
    "console.log(account);\n",
    "console.log(account.owner);\n",
    "account.deposit(100)\n",
    "console.log(account.balance);\n",
    "\n",
    "console.log(typeof account);\n",
    "console.log(account instanceof Account);\n",
    "\n",
    "// readonly属性, 仅在初始化时可以设置, 之后不能修改\n",
    "// account.id = 2\n",
    "\n"
   ]
  },
  {
   "cell_type": "markdown",
   "metadata": {},
   "source": [
    "### 类成员的访问权限\n",
    "\n",
    "在ts中, 类的所有成员默认访问权限都是`public`. 共有三种权限\n",
    "\n",
    "* public: 公开\n",
    "* private: 私有\n",
    "* protected: 保护, 仅自身和子类可见"
   ]
  },
  {
   "cell_type": "code",
   "execution_count": 9,
   "metadata": {},
   "outputs": [
    {
     "name": "stdout",
     "output_type": "stream",
     "text": [
      "john is working.\n"
     ]
    }
   ],
   "source": [
    "class Demo{\n",
    "    name: string\n",
    "    private token: string\n",
    "    work() {\n",
    "        console.log(`${this.name} is working.`);\n",
    "    }\n",
    "\n",
    "    protected action(){\n",
    "        console.log(`${this.name} is doing something.`);\n",
    "    }\n",
    "\n",
    "    constructor(name: string, token: string){\n",
    "        this.name = name\n",
    "        this.token = token\n",
    "    }\n",
    "}\n",
    "\n",
    "let demo = new Demo('john', '123');\n",
    "demo.work()\n",
    "// demo.action() "
   ]
  },
  {
   "cell_type": "markdown",
   "metadata": {},
   "source": [
    "### 参数成员\n",
    "\n",
    "对于在初始化对象时必须传入的参数, 可以通过构造函数的参数列表进行声明以简化代码."
   ]
  },
  {
   "cell_type": "code",
   "execution_count": 10,
   "metadata": {},
   "outputs": [
    {
     "name": "stdout",
     "output_type": "stream",
     "text": [
      "Car { id: 1, brand: 'benz', price: 300000, _basePrice: undefined }\n"
     ]
    }
   ],
   "source": [
    "class Car{\n",
    "    constructor(\n",
    "        public readonly id: number,\n",
    "        public readonly brand: string,\n",
    "        public price: number,\n",
    "        private _basePrice?: number){\n",
    "            \n",
    "        }    \n",
    "}\n",
    "\n",
    "let car = new Car(1, 'benz', 300000)\n",
    "console.log(car);"
   ]
  },
  {
   "cell_type": "markdown",
   "metadata": {},
   "source": [
    "### getters and setters\n",
    "\n",
    "通过`get`和`set`关键字指定私有成员变量的getter和setter方法."
   ]
  },
  {
   "cell_type": "code",
   "execution_count": 12,
   "metadata": {},
   "outputs": [
    {
     "name": "stdout",
     "output_type": "stream",
     "text": [
      "100\n",
      "20\n"
     ]
    }
   ],
   "source": [
    "class Account{\n",
    "    constructor(\n",
    "        private _balance: number){}\n",
    "\n",
    "    get balance(){\n",
    "        return this._balance\n",
    "    }\n",
    "\n",
    "    set balance(value) {\n",
    "        this._balance = value\n",
    "    }\n",
    "}\n",
    "\n",
    "let account = new Account(100)\n",
    "console.log(account.balance);\n",
    "account.balance = 20\n",
    "console.log(account.balance);\n"
   ]
  },
  {
   "cell_type": "code",
   "execution_count": 14,
   "metadata": {},
   "outputs": [
    {
     "name": "stdout",
     "output_type": "stream",
     "text": [
      "SeatAssignment { A1: 'A1', A2: 'A2' }\n",
      "undefined\n"
     ]
    }
   ],
   "source": [
    "class SeatAssignment{\n",
    "    [seatNumber: string]: string;\n",
    "}\n",
    "\n",
    "let seats = new SeatAssignment()\n",
    "seats.A1 = \"A1\"\n",
    "seats.A2 = \"A2\"\n",
    "\n",
    "console.log(seats);\n",
    "console.log(seats.seatNumber)\n"
   ]
  },
  {
   "cell_type": "markdown",
   "metadata": {},
   "source": [
    "### 静态成员\n",
    "\n",
    "所有类的对象共享, 通过类调用, 与其他语言一样"
   ]
  },
  {
   "cell_type": "code",
   "execution_count": 15,
   "metadata": {},
   "outputs": [
    {
     "name": "stdout",
     "output_type": "stream",
     "text": [
      "2\n"
     ]
    }
   ],
   "source": [
    "class Ride{\n",
    "    static activeRides: number = 0;\n",
    "\n",
    "    start() {Ride.activeRides++}\n",
    "    stop() {Ride.activeRides--}\n",
    "}\n",
    "\n",
    "let r1 = new Ride();\n",
    "let r2 = new Ride();\n",
    "\n",
    "r1.start()\n",
    "r2.start()\n",
    "\n",
    "console.log(Ride.activeRides);\n"
   ]
  },
  {
   "cell_type": "markdown",
   "metadata": {},
   "source": [
    "### 继承\n",
    "\n",
    "通过`extends`关键字定义父类."
   ]
  },
  {
   "cell_type": "code",
   "execution_count": 17,
   "metadata": {},
   "outputs": [
    {
     "name": "stdout",
     "output_type": "stream",
     "text": [
      "walking...\n",
      "student: 1 is taking exam...\n"
     ]
    }
   ],
   "source": [
    "class Person{\n",
    "    constructor(\n",
    "        public firstName: string,\n",
    "        public lastName: string\n",
    "    ){}\n",
    "\n",
    "    get fullName():string {\n",
    "        return this.firstName + \" \" + this.lastName\n",
    "    }\n",
    "\n",
    "    walk(){\n",
    "        console.log('walking...')\n",
    "    }\n",
    "}\n",
    "\n",
    "class Student extends Person{\n",
    "    constructor(\n",
    "        public studentId: number, \n",
    "        firstName: string,\n",
    "        lastName: string){\n",
    "            super(firstName, lastName)\n",
    "    }\n",
    "\n",
    "    exam(){\n",
    "        console.log(`student: ${this.studentId} is taking exam...`);\n",
    "    }\n",
    "}\n",
    "\n",
    "let stu = new Student(1, 'John', 'Smith')\n",
    "stu.walk()\n",
    "stu.exam()"
   ]
  },
  {
   "cell_type": "markdown",
   "metadata": {},
   "source": [
    "### 重写\n",
    "\n",
    "子类重写父类的方法, 需要标记`override`关键字."
   ]
  },
  {
   "cell_type": "code",
   "execution_count": 19,
   "metadata": {},
   "outputs": [
    {
     "name": "stdout",
     "output_type": "stream",
     "text": [
      "Professor john Smith\n"
     ]
    }
   ],
   "source": [
    "class Teacher extends Person{\n",
    "    override get fullName(){\n",
    "        return 'Professor ' + this.firstName + ' ' + this.lastName\n",
    "    }\n",
    "}\n",
    "\n",
    "let teacher = new Teacher('john', 'Smith')\n",
    "console.log(teacher.fullName);\n"
   ]
  },
  {
   "cell_type": "markdown",
   "metadata": {},
   "source": [
    "### 抽象类和抽象方法\n",
    "\n",
    "通过关键字`abstract`标记类为抽象类"
   ]
  },
  {
   "cell_type": "code",
   "execution_count": 20,
   "metadata": {},
   "outputs": [
    {
     "name": "stdout",
     "output_type": "stream",
     "text": [
      "render circle in red\n"
     ]
    }
   ],
   "source": [
    "abstract class Shape{\n",
    "    constructor(public color: string){\n",
    "\n",
    "    }\n",
    "\n",
    "    abstract render(): void;\n",
    "}\n",
    "\n",
    "class Circle extends Shape{\n",
    "    constructor(\n",
    "        public radius:number,\n",
    "        color: string){\n",
    "            super(color)\n",
    "        }\n",
    "\n",
    "    render(): void {\n",
    "        console.log('render circle in '+this.color);\n",
    "    }\n",
    "}\n",
    "\n",
    "let circle = new Circle(10,'red');\n",
    "\n",
    "circle.render();\n"
   ]
  },
  {
   "cell_type": "markdown",
   "metadata": {},
   "source": [
    "## 接口\n",
    "\n",
    "通过`interface`关键字定义接口. 接口可以包含属性, 和抽象方法, 但是不需要添加`abstract`关键字.\n",
    "\n",
    "接口可以被其他接口继承.\n",
    "\n",
    "实现接口使用`implements`关键字, 与java语言一样."
   ]
  },
  {
   "cell_type": "code",
   "execution_count": 21,
   "metadata": {},
   "outputs": [
    {
     "name": "stdout",
     "output_type": "stream",
     "text": [
      "add event to CloudCalender.\n",
      "remove event from CloudCalender.\n",
      "sync event to CloudCalender.\n"
     ]
    }
   ],
   "source": [
    "interface Calender {\n",
    "    name: string;\n",
    "    addEvent(): void;\n",
    "    removeEvent(): void;\n",
    "}\n",
    "\n",
    "interface CloudCalender extends Calender{\n",
    "    sync(): void;\n",
    "}\n",
    "\n",
    "class TinyCalender implements CloudCalender{\n",
    "    constructor(public name: string){}\n",
    "\n",
    "    addEvent(): void {\n",
    "        console.log('add event to CloudCalender.');\n",
    "    }\n",
    "\n",
    "    removeEvent(): void {\n",
    "        console.log('remove event from CloudCalender.');\n",
    "    }\n",
    "\n",
    "    sync(): void {\n",
    "        console.log('sync event to CloudCalender.');\n",
    "    }\n",
    "}\n",
    "\n",
    "let calc = new TinyCalender('my calendar');\n",
    "calc.addEvent()\n",
    "calc.removeEvent()\n",
    "calc.sync()"
   ]
  }
 ],
 "metadata": {
  "kernelspec": {
   "display_name": "TypeScript",
   "language": "typescript",
   "name": "tslab"
  },
  "language_info": {
   "codemirror_mode": {
    "mode": "typescript",
    "name": "javascript",
    "typescript": true
   },
   "file_extension": ".ts",
   "mimetype": "text/typescript",
   "name": "typescript",
   "version": "3.7.2"
  }
 },
 "nbformat": 4,
 "nbformat_minor": 2
}
