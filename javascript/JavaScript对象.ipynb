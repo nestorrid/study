{
 "cells": [
  {
   "cell_type": "markdown",
   "metadata": {},
   "source": [
    "# JavaScript 对象\n",
    "\n",
    "JavaScript的对象可以看成是其他语言的词典.\n",
    "\n",
    "对象的成员可以是基本数据类型, 也可以是其他的对象, 数组, 或者方法."
   ]
  },
  {
   "cell_type": "code",
   "execution_count": 3,
   "metadata": {},
   "outputs": [
    {
     "name": "stdout",
     "output_type": "stream",
     "text": [
      "{ radius: \u001b[33m1\u001b[39m, location: { x: \u001b[33m0\u001b[39m, y: \u001b[33m0\u001b[39m }, draw: \u001b[36m[Function: draw]\u001b[39m }\n",
      "draw circle\n",
      "\u001b[90mundefined\u001b[39m\n"
     ]
    }
   ],
   "source": [
    "const circle = {\n",
    "    radius: 1,\n",
    "    location: {\n",
    "        x: 0,\n",
    "        y: 0\n",
    "    },\n",
    "    draw: function () { \n",
    "        console.log('draw circle');\n",
    "    }\n",
    "}\n",
    "console.log(circle);\n",
    "console.log(circle.draw());"
   ]
  },
  {
   "cell_type": "markdown",
   "metadata": {},
   "source": [
    "## 创建js对象"
   ]
  },
  {
   "cell_type": "markdown",
   "metadata": {},
   "source": [
    "### 通过工厂方法创建对象"
   ]
  },
  {
   "cell_type": "code",
   "execution_count": 7,
   "metadata": {},
   "outputs": [
    {
     "name": "stdout",
     "output_type": "stream",
     "text": [
      "{ radius: \u001b[33m3\u001b[39m, location: { x: \u001b[33m0\u001b[39m, y: \u001b[33m0\u001b[39m }, draw: \u001b[36m[Function: draw]\u001b[39m }\n",
      "{ radius: \u001b[33m3\u001b[39m, location: { x: \u001b[33m0\u001b[39m, y: \u001b[33m0\u001b[39m }, draw: \u001b[36m[Function: draw]\u001b[39m }\n"
     ]
    }
   ],
   "source": [
    "function createCircle(radius, location){\n",
    "    return {\n",
    "        radius: radius,\n",
    "        location: location,\n",
    "        draw: function(){\n",
    "            console.log('drawing circle')\n",
    "        }\n",
    "    }\n",
    "}\n",
    "\n",
    "//也可以简写成\n",
    "function createCircle1(radius, location){\n",
    "    return {\n",
    "        radius,\n",
    "        location,\n",
    "        draw(){\n",
    "            console.log('drawing circle')\n",
    "        }\n",
    "    }\n",
    "}\n",
    "\n",
    "let circle = createCircle(3, {x:0,y:0});\n",
    "let circle1 = createCircle1(3, {x:0,y:0});\n",
    "console.log(circle)\n",
    "console.log(circle1)"
   ]
  },
  {
   "cell_type": "markdown",
   "metadata": {},
   "source": [
    "### 通过构造函数创建对象"
   ]
  },
  {
   "cell_type": "code",
   "execution_count": 12,
   "metadata": {},
   "outputs": [
    {
     "name": "stdout",
     "output_type": "stream",
     "text": [
      "Circle { radius: \u001b[33m5\u001b[39m, draw: \u001b[36m[Function (anonymous)]\u001b[39m }\n"
     ]
    }
   ],
   "source": [
    "function Circle(radius){\n",
    "    this.radius = radius\n",
    "    this.draw = function(){\n",
    "        console.log('drawing circle')\n",
    "    }\n",
    "}\n",
    "\n",
    "let c = new Circle(5)\n",
    "console.log(c);"
   ]
  },
  {
   "cell_type": "markdown",
   "metadata": {},
   "source": [
    "两种方式都可以用来生成对象. 通过构造函数创建更类似于java等其他语言的OOP编程习惯."
   ]
  },
  {
   "cell_type": "markdown",
   "metadata": {},
   "source": [
    "### 对象的动态特征\n",
    "\n",
    "JavaScript的对象都是动态的, 即创建的对象可以自由的添加, 删除, 修改其所包含的成员."
   ]
  },
  {
   "cell_type": "code",
   "execution_count": 15,
   "metadata": {},
   "outputs": [
    {
     "name": "stdout",
     "output_type": "stream",
     "text": [
      "{ radius: \u001b[33m1\u001b[39m, color: \u001b[32m'red'\u001b[39m }\n",
      "\u001b[36m[Function: Function]\u001b[39m\n"
     ]
    }
   ],
   "source": [
    "const obj = {\n",
    "    radius: 1\n",
    "}\n",
    "\n",
    "obj.color = 'red'\n",
    "console.log(obj)"
   ]
  },
  {
   "cell_type": "markdown",
   "metadata": {},
   "source": [
    "### 复制对象\n",
    "\n",
    "可以通过`Object.assign`方法来进行对象复制, 或直接通过`...`拆分运算符快速复制对象."
   ]
  },
  {
   "cell_type": "code",
   "execution_count": 20,
   "metadata": {},
   "outputs": [
    {
     "name": "stdout",
     "output_type": "stream",
     "text": [
      "{ name: \u001b[32m'张三'\u001b[39m, age: \u001b[33m30\u001b[39m }\n"
     ]
    },
    {
     "name": "stdout",
     "output_type": "stream",
     "text": [
      "{ name: \u001b[32m'张三'\u001b[39m, age: \u001b[33m30\u001b[39m }\n"
     ]
    }
   ],
   "source": [
    "const person = {\n",
    "    name: '张三',\n",
    "    age: 30\n",
    "}\n",
    "\n",
    "const other = Object.assign({}, person)\n",
    "console.log(other)\n",
    "\n",
    "const third = {...person}\n",
    "console.log(third);"
   ]
  },
  {
   "cell_type": "markdown",
   "metadata": {},
   "source": [
    "## 私有化成员"
   ]
  },
  {
   "cell_type": "code",
   "execution_count": 27,
   "metadata": {},
   "outputs": [
    {
     "name": "stdout",
     "output_type": "stream",
     "text": [
      "{ x: \u001b[33m0\u001b[39m, y: \u001b[33m0\u001b[39m }\n"
     ]
    }
   ],
   "source": [
    "function Circle(radius){\n",
    "    // 通过let声明的变量和方法仅在对象的内部可见\n",
    "    let defaultLocation = {x:0, y:0}\n",
    "    \n",
    "    let computeLocation = (factor) => {\n",
    "        let location = this.location || defaultLocation\n",
    "        return {\n",
    "            x: location.x * factor, \n",
    "            y: location.y * factor\n",
    "        }\n",
    "    }\n",
    "\n",
    "    this.radius = radius\n",
    "    this.location = null\n",
    "\n",
    "    this.draw = function(){\n",
    "        let location = computeLocation(0.5)\n",
    "        console.log(location);\n",
    "    }\n",
    "}\n",
    "\n",
    "let circle = new Circle(5);\n",
    "circle.draw();"
   ]
  }
 ],
 "metadata": {
  "kernelspec": {
   "display_name": "JavaScript",
   "language": "javascript",
   "name": "jslab"
  },
  "language_info": {
   "file_extension": ".js",
   "mimetype": "text/javascript",
   "name": "javascript",
   "version": ""
  }
 },
 "nbformat": 4,
 "nbformat_minor": 2
}
