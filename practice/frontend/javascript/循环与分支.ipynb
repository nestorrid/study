{
 "cells": [
  {
   "cell_type": "markdown",
   "metadata": {},
   "source": [
    "# 循环与分支"
   ]
  },
  {
   "cell_type": "markdown",
   "metadata": {},
   "source": [
    "## 分支判断\n",
    "\n",
    "### if"
   ]
  },
  {
   "cell_type": "code",
   "execution_count": null,
   "metadata": {},
   "outputs": [],
   "source": [
    "// if (condition){\n",
    "//     ...\n",
    "// }else if (other condition){\n",
    "//     ...\n",
    "// }else{\n",
    "//     ...\n",
    "// }"
   ]
  },
  {
   "cell_type": "markdown",
   "metadata": {},
   "source": [
    "### switch"
   ]
  },
  {
   "cell_type": "code",
   "execution_count": 1,
   "metadata": {},
   "outputs": [
    {
     "name": "stdout",
     "output_type": "stream",
     "text": [
      "guest user...\n"
     ]
    }
   ],
   "source": [
    "let role = 'guest'\n",
    "switch (role) { \n",
    "    case 'guest':\n",
    "        console.log('guest user...');\n",
    "        break;\n",
    "    case 'admin':\n",
    "        console.log('admin user...');\n",
    "        break;\n",
    "    default:\n",
    "        console.log('unknown user role');\n",
    "}"
   ]
  },
  {
   "cell_type": "markdown",
   "metadata": {},
   "source": [
    "## 循环\n",
    "\n",
    "### for"
   ]
  },
  {
   "cell_type": "code",
   "execution_count": 2,
   "metadata": {},
   "outputs": [
    {
     "name": "stdout",
     "output_type": "stream",
     "text": [
      "\u001b[33m0\u001b[39m\n",
      "\u001b[33m1\u001b[39m\n",
      "\u001b[33m2\u001b[39m\n"
     ]
    }
   ],
   "source": [
    "for (let i=0; i<3; i++) {\n",
    "    console.log(i);\n",
    "}"
   ]
  },
  {
   "cell_type": "markdown",
   "metadata": {},
   "source": [
    "### for...in, for...of\n",
    "\n",
    "在JavaScript中, for...in的使用与python有所区别.\n",
    "在通过for...in遍历多想时可以直接获取对象成员的key.\n",
    "而在遍历数组时则是获取所有的下标."
   ]
  },
  {
   "cell_type": "code",
   "execution_count": 5,
   "metadata": {},
   "outputs": [
    {
     "name": "stdout",
     "output_type": "stream",
     "text": [
      "name Nestor\n",
      "age \u001b[33m35\u001b[39m\n",
      "\u001b[33m15\u001b[39m\n"
     ]
    }
   ],
   "source": [
    "const person = {\n",
    "    name: 'Nestor',\n",
    "    age: 35\n",
    "}\n",
    "\n",
    "for (let key in person) {\n",
    "    console.log(key, person[key]);\n",
    "}\n",
    "\n",
    "const arr = [1,2,3,4,5];\n",
    "let sum = 0;\n",
    "for (let index in arr) {\n",
    "    sum += arr[index];\n",
    "}\n",
    "console.log(sum);"
   ]
  },
  {
   "cell_type": "markdown",
   "metadata": {},
   "source": [
    "而for...of循环在遍历数组时则是直接获取数组的每一个元素"
   ]
  },
  {
   "cell_type": "code",
   "execution_count": 6,
   "metadata": {},
   "outputs": [
    {
     "name": "stdout",
     "output_type": "stream",
     "text": [
      "\u001b[33m15\u001b[39m\n"
     ]
    }
   ],
   "source": [
    "sum = 0\n",
    "for (let num of arr){\n",
    "    sum += num\n",
    "}\n",
    "console.log(sum);"
   ]
  },
  {
   "cell_type": "markdown",
   "metadata": {},
   "source": [
    "因此, 通常的用法是\n",
    "\n",
    "* for...in... 来遍历对象的key\n",
    "* for...of... 来遍历数组的元素"
   ]
  },
  {
   "cell_type": "markdown",
   "metadata": {},
   "source": [
    "### while"
   ]
  },
  {
   "cell_type": "code",
   "execution_count": 1,
   "metadata": {},
   "outputs": [
    {
     "name": "stdout",
     "output_type": "stream",
     "text": [
      "\u001b[33m0\u001b[39m\n",
      "\u001b[33m1\u001b[39m\n",
      "\u001b[33m2\u001b[39m\n"
     ]
    }
   ],
   "source": [
    "let i = 0;\n",
    "while (i < 3){\n",
    "    console.log(i++);\n",
    "\n",
    "}"
   ]
  },
  {
   "cell_type": "markdown",
   "metadata": {},
   "source": [
    "### do...while\n",
    "与while的区别在于先执行, 后判断, 即`do...while`循环最少运行一次"
   ]
  },
  {
   "cell_type": "code",
   "execution_count": 3,
   "metadata": {},
   "outputs": [
    {
     "name": "stdout",
     "output_type": "stream",
     "text": [
      "\u001b[33m5\u001b[39m\n"
     ]
    }
   ],
   "source": [
    "let i = 5;\n",
    "do {\n",
    "    console.log(i++);\n",
    "} while(i < 3)"
   ]
  },
  {
   "cell_type": "markdown",
   "metadata": {},
   "source": [
    "### break, continue语句\n",
    "\n",
    "所有类型的循环都可以通过`continue`跳过当前循环, 通过`break`退出循环."
   ]
  }
 ],
 "metadata": {
  "kernelspec": {
   "display_name": "JavaScript",
   "language": "javascript",
   "name": "jslab"
  },
  "language_info": {
   "file_extension": ".js",
   "mimetype": "text/javascript",
   "name": "javascript",
   "version": ""
  }
 },
 "nbformat": 4,
 "nbformat_minor": 2
}
