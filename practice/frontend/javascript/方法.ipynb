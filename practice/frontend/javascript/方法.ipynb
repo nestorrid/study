{
 "cells": [
  {
   "cell_type": "markdown",
   "metadata": {},
   "source": [
    "# javascript 中的方法"
   ]
  },
  {
   "cell_type": "markdown",
   "metadata": {},
   "source": [
    "JavaScript编译器会把所有的定义放在最先编译\n",
    "\n",
    "所以明确定义的方法可以在任意位置调用.\n",
    "\n",
    "被称为Hoisting"
   ]
  },
  {
   "cell_type": "code",
   "execution_count": 3,
   "metadata": {},
   "outputs": [
    {
     "name": "stdout",
     "output_type": "stream",
     "text": [
      "walking\n",
      "running\n"
     ]
    }
   ],
   "source": [
    "walk();\n",
    "\n",
    "// 方法定义\n",
    "function walk() { \n",
    "    console.log('walking');\n",
    "}\n",
    "\n",
    "// 在方法表达式定以前调用, 会报错\n",
    "// run();\n",
    "\n",
    "// 方法表达式\n",
    "let run = function () { \n",
    "    console.log('running');\n",
    "}\n",
    "\n",
    "run();\n",
    "\n"
   ]
  },
  {
   "cell_type": "markdown",
   "metadata": {},
   "source": [
    "## 函数的参数\n",
    "\n",
    "函数本身是一个对象, 也有自己的成员.\n",
    "\n",
    "`arguments` 成员是所有的参数组成的数组"
   ]
  },
  {
   "cell_type": "code",
   "execution_count": 10,
   "metadata": {},
   "outputs": [
    {
     "name": "stdout",
     "output_type": "stream",
     "text": [
      "\u001b[33m15\u001b[39m\n"
     ]
    }
   ],
   "source": [
    "function sum(){\n",
    "    const args = [...arguments]\n",
    "    return args.reduce((a,n) => a + n)\n",
    "}\n",
    "\n",
    "console.log(sum(1,2,3,4,5));"
   ]
  },
  {
   "cell_type": "markdown",
   "metadata": {},
   "source": [
    "但是通常不会直接使用`argguments`成员, 而是显示的声明函数的参数.\n",
    "\n",
    "对于可变参数, 必须放在参数列表的最后."
   ]
  },
  {
   "cell_type": "code",
   "execution_count": 11,
   "metadata": {},
   "outputs": [
    {
     "name": "stdout",
     "output_type": "stream",
     "text": [
      "\u001b[33m15\u001b[39m\n"
     ]
    }
   ],
   "source": [
    "function sum(...numbers) {\n",
    "    return numbers.reduce((a, n) => a + n)\n",
    "}\n",
    "\n",
    "console.log(sum(1,2,3,4,5));"
   ]
  },
  {
   "cell_type": "code",
   "execution_count": 12,
   "metadata": {},
   "outputs": [
    {
     "name": "stdout",
     "output_type": "stream",
     "text": [
      "\u001b[33m23.400000000000002\u001b[39m\n"
     ]
    }
   ],
   "source": [
    "function total(discount, ...prices) {\n",
    "    return prices.reduce((a,n)=>a+n) * (1 - discount)\n",
    "}\n",
    "\n",
    "console.log(total(0.1, 3, 5, 8, 10));"
   ]
  },
  {
   "cell_type": "markdown",
   "metadata": {},
   "source": [
    "### 参数的默认值\n",
    "\n",
    "跟python语法一致"
   ]
  },
  {
   "cell_type": "code",
   "execution_count": 13,
   "metadata": {},
   "outputs": [
    {
     "name": "stdout",
     "output_type": "stream",
     "text": [
      "{ radius: \u001b[33m5\u001b[39m, x: \u001b[33m0\u001b[39m, y: \u001b[33m0\u001b[39m }\n"
     ]
    }
   ],
   "source": [
    "function createCircle(radius, x=0, y=0){\n",
    "    return {\n",
    "        radius: radius,\n",
    "        x: x,\n",
    "        y: y\n",
    "    }\n",
    "}\n",
    "\n",
    "console.log(createCircle(5));"
   ]
  },
  {
   "cell_type": "markdown",
   "metadata": {},
   "source": [
    "### getters and setters"
   ]
  },
  {
   "cell_type": "code",
   "execution_count": 17,
   "metadata": {},
   "outputs": [
    {
     "name": "stdout",
     "output_type": "stream",
     "text": [
      "John Smith\n",
      "will terner\n"
     ]
    }
   ],
   "source": [
    "const person = {\n",
    "    firstName: 'John', \n",
    "    lastName: 'Smith',\n",
    "    get fullName(){\n",
    "        return `${this.firstName} ${this.lastName}`\n",
    "    },\n",
    "    set fullName(name){\n",
    "        const temp = name.split(' ')\n",
    "        this.firstName = temp[0]\n",
    "        this.lastName = temp[1]\n",
    "    }\n",
    "}\n",
    "\n",
    "console.log(person.fullName);\n",
    "person.fullName = 'will terner'\n",
    "console.log(person.fullName);"
   ]
  },
  {
   "cell_type": "markdown",
   "metadata": {},
   "source": [
    "### 异常处理\n",
    "\n",
    "在上面的代码中, 在调用setter时如果传入的参数不符合要求, 就会引发程序异常.\n",
    "\n",
    "比如不是字符串类型, 或者没有空格等等.\n",
    "\n",
    "通过`throw`抛出异常, 通过`try...catch`进行异常处理"
   ]
  },
  {
   "cell_type": "code",
   "execution_count": 21,
   "metadata": {},
   "outputs": [
    {
     "name": "stdout",
     "output_type": "stream",
     "text": [
      "Error: please input a valid name.\n",
      "    at set fullName [as fullName] (evalmachine.<anonymous>:14:19)\n",
      "    at evalmachine.<anonymous>:21:21\n",
      "    at evalmachine.<anonymous>:27:3\n",
      "\u001b[90m    at sigintHandlersWrap (node:vm:266:12)\u001b[39m\n",
      "\u001b[90m    at Script.runInThisContext (node:vm:119:14)\u001b[39m\n",
      "\u001b[90m    at Object.runInThisContext (node:vm:303:38)\u001b[39m\n",
      "    at Object.execute (/opt/homebrew/lib/node_modules/\u001b[4mtslab\u001b[24m/dist/executor.js:160:38)\n",
      "    at JupyterHandlerImpl.handleExecuteImpl (/opt/homebrew/lib/node_modules/\u001b[4mtslab\u001b[24m/dist/jupyter.js:223:38)\n",
      "    at /opt/homebrew/lib/node_modules/\u001b[4mtslab\u001b[24m/dist/jupyter.js:181:57\n",
      "    at async JupyterHandlerImpl.handleExecute (/opt/homebrew/lib/node_modules/\u001b[4mtslab\u001b[24m/dist/jupyter.js:181:21)\n"
     ]
    }
   ],
   "source": [
    "const person = {\n",
    "    firstName: 'John', \n",
    "    lastName: 'Smith',\n",
    "    get fullName(){\n",
    "        return `${this.firstName} ${this.lastName}`\n",
    "    },\n",
    "    set fullName(name){\n",
    "        if (typeof(name) !== 'string') \n",
    "            throw new Error('name should be a string.')\n",
    "\n",
    "        const temp = name.split(' ')\n",
    "\n",
    "        if (temp.length !== 2)\n",
    "            throw new Error('please input a valid name.')\n",
    "\n",
    "        this.firstName = temp[0]\n",
    "        this.lastName = temp[1]\n",
    "    }\n",
    "}\n",
    "\n",
    "try {\n",
    "    person.fullName = \"test\"\n",
    "} catch (error) {\n",
    "    console.log(error);\n",
    "}"
   ]
  },
  {
   "cell_type": "markdown",
   "metadata": {},
   "source": [
    "### let 和 var 的区别\n",
    "\n",
    "虽然`let`和`var`都可以用来定义变量, 其主要的区别在于变量的作用域\n",
    "\n",
    "* `var`: 函数作用域, 即函数内所有通过var定义的变量当前函数都可以使用. 如果在一个函数中有一个循环, 在循环中通过`var`定义的变量在结束循环后, 函数内的其他位置依然可见.\n",
    "* `let`, `const`: 块作用域, 即只有同级别的代码块内可见.\n",
    "\n",
    "如果通过`var`定义全局变量, 那么这个变量会被添加到`window`对象当中, 似的其他的JavaScript文件同样可以访问该对象. 或者由于多个js文件存在同名对象造成冲突或运行时异常.\n",
    "\n",
    "但`let`关键字定义的全局变量仅在当前的js文件中可见. \n",
    "\n",
    "本质还是作用域问题."
   ]
  },
  {
   "cell_type": "code",
   "execution_count": 23,
   "metadata": {},
   "outputs": [
    {
     "name": "stdout",
     "output_type": "stream",
     "text": [
      "\u001b[33m0\u001b[39m\n",
      "\u001b[33m1\u001b[39m\n",
      "\u001b[33m2\u001b[39m\n",
      "\u001b[33m3\u001b[39m\n",
      "\u001b[33m4\u001b[39m\n",
      "\u001b[33m5\u001b[39m\n"
     ]
    }
   ],
   "source": [
    "function start(){\n",
    "    for (var i=0; i<5; i++)\n",
    "        console.log(i)\n",
    "\n",
    "    console.log(i)\n",
    "}\n",
    "\n",
    "start();"
   ]
  },
  {
   "cell_type": "code",
   "execution_count": 24,
   "metadata": {},
   "outputs": [
    {
     "name": "stderr",
     "output_type": "stream",
     "text": [
      "5:17 - Cannot find name 'i'.\n"
     ]
    }
   ],
   "source": [
    "function start(){\n",
    "    for (let i=0; i<5; i++)\n",
    "        console.log(i)\n",
    "\n",
    "    console.log(i)\n",
    "}\n",
    "\n",
    "start();"
   ]
  },
  {
   "cell_type": "markdown",
   "metadata": {},
   "source": [
    "## this关键字\n",
    "\n",
    "* 在方法中, `this`关键字指向的是当前对象.\n",
    "* 在函数中, `this`指向的是`window`对象. 或者说是脚本的容器."
   ]
  },
  {
   "cell_type": "code",
   "execution_count": 26,
   "metadata": {},
   "outputs": [
    {
     "name": "stdout",
     "output_type": "stream",
     "text": [
      "title: title\n"
     ]
    },
    {
     "name": "stdout",
     "output_type": "stream",
     "text": [
      "\u001b[36m<ref *1>\u001b[39m Object [global] {\n",
      "  global: \u001b[36m[Circular *1]\u001b[39m,\n",
      "  clearImmediate: \u001b[36m[Function: clearImmediate]\u001b[39m,\n",
      "  setImmediate: [Function: setImmediate] {\n",
      "    [\u001b[32mSymbol(nodejs.util.promisify.custom)\u001b[39m]: \u001b[36m[Getter]\u001b[39m\n",
      "  },\n",
      "  clearInterval: \u001b[36m[Function: clearInterval]\u001b[39m,\n",
      "  clearTimeout: \u001b[36m[Function: clearTimeout]\u001b[39m,\n",
      "  setInterval: \u001b[36m[Function: setInterval]\u001b[39m,\n",
      "  setTimeout: [Function: setTimeout] {\n",
      "    [\u001b[32mSymbol(nodejs.util.promisify.custom)\u001b[39m]: \u001b[36m[Getter]\u001b[39m\n",
      "  },\n",
      "  queueMicrotask: \u001b[36m[Function: queueMicrotask]\u001b[39m,\n",
      "  structuredClone: \u001b[36m[Function: structuredClone]\u001b[39m,\n",
      "  atob: \u001b[36m[Getter/Setter]\u001b[39m,\n",
      "  btoa: \u001b[36m[Getter/Setter]\u001b[39m,\n",
      "  performance: \u001b[36m[Getter/Setter]\u001b[39m,\n",
      "  navigator: \u001b[36m[Getter]\u001b[39m,\n",
      "  fetch: \u001b[36m[Function: fetch]\u001b[39m,\n",
      "  crypto: \u001b[36m[Getter]\u001b[39m,\n",
      "  __tslab__: {\n",
      "    exports: {\n",
      "      tsLastExpr: \u001b[90mundefined\u001b[39m,\n",
      "      walk: \u001b[36m[Function: walk]\u001b[39m,\n",
      "      run: \u001b[36m[Function: run]\u001b[39m,\n",
      "      sum: \u001b[36m[Function: sum]\u001b[39m,\n",
      "      total: \u001b[36m[Function: total]\u001b[39m,\n",
      "      createCircle: \u001b[36m[Function: createCircle]\u001b[39m,\n",
      "      person: \u001b[36m[Object]\u001b[39m,\n",
      "      start: \u001b[36m[Function: start]\u001b[39m,\n",
      "      obj: \u001b[36m[Object]\u001b[39m,\n",
      "      func: \u001b[36m[Function: func]\u001b[39m\n",
      "    },\n",
      "    require: [Function: require] {\n",
      "      resolve: \u001b[36m[Function]\u001b[39m,\n",
      "      main: \u001b[36m[Object]\u001b[39m,\n",
      "      extensions: \u001b[36m[Object: null prototype]\u001b[39m,\n",
      "      cache: \u001b[36m[Object: null prototype]\u001b[39m\n",
      "    }\n",
      "  }\n",
      "}\n"
     ]
    }
   ],
   "source": [
    "const obj = {\n",
    "    title: 'title',\n",
    "    show(){\n",
    "        console.log(`title: ${this.title}`);\n",
    "    }\n",
    "}\n",
    "obj.show();\n",
    "\n",
    "function func(){\n",
    "    console.log(this);\n",
    "}\n",
    "\n",
    "func()"
   ]
  },
  {
   "cell_type": "markdown",
   "metadata": {},
   "source": [
    "> 在js中, 通过function关键字定义的回调函数被视为常规函数\n",
    "> \n",
    "> 所以在回调函数中直接使用`this`会指向容器对象, 而非所在对象"
   ]
  },
  {
   "cell_type": "code",
   "execution_count": 33,
   "metadata": {},
   "outputs": [
    {
     "name": "stdout",
     "output_type": "stream",
     "text": [
      "\u001b[36m<ref *1>\u001b[39m Object [global] {\n",
      "  global: \u001b[36m[Circular *1]\u001b[39m,\n",
      "  clearImmediate: \u001b[36m[Function: clearImmediate]\u001b[39m,\n",
      "  setImmediate: [Function: setImmediate] {\n",
      "    [\u001b[32mSymbol(nodejs.util.promisify.custom)\u001b[39m]: \u001b[36m[Getter]\u001b[39m\n",
      "  },\n",
      "  clearInterval: \u001b[36m[Function: clearInterval]\u001b[39m,\n",
      "  clearTimeout: \u001b[36m[Function: clearTimeout]\u001b[39m,\n",
      "  setInterval: \u001b[36m[Function: setInterval]\u001b[39m,\n",
      "  setTimeout: [Function: setTimeout] {\n",
      "    [\u001b[32mSymbol(nodejs.util.promisify.custom)\u001b[39m]: \u001b[36m[Getter]\u001b[39m\n",
      "  },\n",
      "  queueMicrotask: \u001b[36m[Function: queueMicrotask]\u001b[39m,\n",
      "  structuredClone: \u001b[36m[Function: structuredClone]\u001b[39m,\n",
      "  atob: \u001b[36m[Getter/Setter]\u001b[39m,\n",
      "  btoa: \u001b[36m[Getter/Setter]\u001b[39m,\n",
      "  performance: \u001b[36m[Getter/Setter]\u001b[39m,\n",
      "  navigator: \u001b[36m[Getter]\u001b[39m,\n",
      "  fetch: \u001b[36m[Function: fetch]\u001b[39m,\n",
      "  crypto: \u001b[36m[Getter]\u001b[39m,\n",
      "  __tslab__: {\n",
      "    exports: {\n",
      "      tsLastExpr: \u001b[90mundefined\u001b[39m,\n",
      "      walk: \u001b[36m[Function: walk]\u001b[39m,\n",
      "      run: \u001b[36m[Function: run]\u001b[39m,\n",
      "      sum: \u001b[36m[Function: sum]\u001b[39m,\n",
      "      total: \u001b[36m[Function: total]\u001b[39m,\n",
      "      createCircle: \u001b[36m[Function: createCircle]\u001b[39m,\n",
      "      person: \u001b[36m[Object]\u001b[39m,\n",
      "      start: \u001b[36m[Function: start]\u001b[39m,\n",
      "      obj: \u001b[36m[Object]\u001b[39m,\n",
      "      func: \u001b[36m[Function: func]\u001b[39m\n",
      "    },\n",
      "    require: [Function: require] {\n",
      "      resolve: \u001b[36m[Function]\u001b[39m,\n",
      "      main: \u001b[36m[Object]\u001b[39m,\n",
      "      extensions: \u001b[36m[Object: null prototype]\u001b[39m,\n",
      "      cache: \u001b[36m[Object: null prototype]\u001b[39m\n",
      "    }\n",
      "  }\n",
      "} a\n",
      "\u001b[36m<ref *1>\u001b[39m Object [global] {\n",
      "  global: \u001b[36m[Circular *1]\u001b[39m,\n",
      "  clearImmediate: \u001b[36m[Function: clearImmediate]\u001b[39m,\n",
      "  setImmediate: [Function: setImmediate] {\n",
      "    [\u001b[32mSymbol(nodejs.util.promisify.custom)\u001b[39m]: \u001b[36m[Getter]\u001b[39m\n",
      "  },\n",
      "  clearInterval: \u001b[36m[Function: clearInterval]\u001b[39m,\n",
      "  clearTimeout: \u001b[36m[Function: clearTimeout]\u001b[39m,\n",
      "  setInterval: \u001b[36m[Function: setInterval]\u001b[39m,\n",
      "  setTimeout: [Function: setTimeout] {\n",
      "    [\u001b[32mSymbol(nodejs.util.promisify.custom)\u001b[39m]: \u001b[36m[Getter]\u001b[39m\n",
      "  },\n",
      "  queueMicrotask: \u001b[36m[Function: queueMicrotask]\u001b[39m,\n",
      "  structuredClone: \u001b[36m[Function: structuredClone]\u001b[39m,\n",
      "  atob: \u001b[36m[Getter/Setter]\u001b[39m,\n",
      "  btoa: \u001b[36m[Getter/Setter]\u001b[39m,\n",
      "  performance: \u001b[36m[Getter/Setter]\u001b[39m,\n",
      "  navigator: \u001b[36m[Getter]\u001b[39m,\n",
      "  fetch: \u001b[36m[Function: fetch]\u001b[39m,\n",
      "  crypto: \u001b[36m[Getter]\u001b[39m,\n",
      "  __tslab__: {\n",
      "    exports: {\n",
      "      tsLastExpr: \u001b[90mundefined\u001b[39m,\n",
      "      walk: \u001b[36m[Function: walk]\u001b[39m,\n",
      "      run: \u001b[36m[Function: run]\u001b[39m,\n",
      "      sum: \u001b[36m[Function: sum]\u001b[39m,\n",
      "      total: \u001b[36m[Function: total]\u001b[39m,\n",
      "      createCircle: \u001b[36m[Function: createCircle]\u001b[39m,\n",
      "      person: \u001b[36m[Object]\u001b[39m,\n",
      "      start: \u001b[36m[Function: start]\u001b[39m,\n",
      "      obj: \u001b[36m[Object]\u001b[39m,\n",
      "      func: \u001b[36m[Function: func]\u001b[39m\n",
      "    },\n",
      "    require: [Function: require] {\n",
      "      resolve: \u001b[36m[Function]\u001b[39m,\n",
      "      main: \u001b[36m[Object]\u001b[39m,\n",
      "      extensions: \u001b[36m[Object: null prototype]\u001b[39m,\n",
      "      cache: \u001b[36m[Object: null prototype]\u001b[39m\n",
      "    }\n",
      "  }\n",
      "} b\n",
      "\u001b[36m<ref *1>\u001b[39m Object [global] {\n",
      "  global: \u001b[36m[Circular *1]\u001b[39m,\n",
      "  clearImmediate: \u001b[36m[Function: clearImmediate]\u001b[39m,\n",
      "  setImmediate: [Function: setImmediate] {\n",
      "    [\u001b[32mSymbol(nodejs.util.promisify.custom)\u001b[39m]: \u001b[36m[Getter]\u001b[39m\n",
      "  },\n",
      "  clearInterval: \u001b[36m[Function: clearInterval]\u001b[39m,\n",
      "  clearTimeout: \u001b[36m[Function: clearTimeout]\u001b[39m,\n",
      "  setInterval: \u001b[36m[Function: setInterval]\u001b[39m,\n",
      "  setTimeout: [Function: setTimeout] {\n",
      "    [\u001b[32mSymbol(nodejs.util.promisify.custom)\u001b[39m]: \u001b[36m[Getter]\u001b[39m\n",
      "  },\n",
      "  queueMicrotask: \u001b[36m[Function: queueMicrotask]\u001b[39m,\n",
      "  structuredClone: \u001b[36m[Function: structuredClone]\u001b[39m,\n",
      "  atob: \u001b[36m[Getter/Setter]\u001b[39m,\n",
      "  btoa: \u001b[36m[Getter/Setter]\u001b[39m,\n",
      "  performance: \u001b[36m[Getter/Setter]\u001b[39m,\n",
      "  navigator: \u001b[36m[Getter]\u001b[39m,\n",
      "  fetch: \u001b[36m[Function: fetch]\u001b[39m,\n",
      "  crypto: \u001b[36m[Getter]\u001b[39m,\n",
      "  __tslab__: {\n",
      "    exports: {\n",
      "      tsLastExpr: \u001b[90mundefined\u001b[39m,\n",
      "      walk: \u001b[36m[Function: walk]\u001b[39m,\n",
      "      run: \u001b[36m[Function: run]\u001b[39m,\n",
      "      sum: \u001b[36m[Function: sum]\u001b[39m,\n",
      "      total: \u001b[36m[Function: total]\u001b[39m,\n",
      "      createCircle: \u001b[36m[Function: createCircle]\u001b[39m,\n",
      "      person: \u001b[36m[Object]\u001b[39m,\n",
      "      start: \u001b[36m[Function: start]\u001b[39m,\n",
      "      obj: \u001b[36m[Object]\u001b[39m,\n",
      "      func: \u001b[36m[Function: func]\u001b[39m\n",
      "    },\n",
      "    require: [Function: require] {\n",
      "      resolve: \u001b[36m[Function]\u001b[39m,\n",
      "      main: \u001b[36m[Object]\u001b[39m,\n",
      "      extensions: \u001b[36m[Object: null prototype]\u001b[39m,\n",
      "      cache: \u001b[36m[Object: null prototype]\u001b[39m\n",
      "    }\n",
      "  }\n",
      "} c\n"
     ]
    }
   ],
   "source": [
    "const obj = {\n",
    "    title: 'obj',\n",
    "    tags: ['a', 'b', 'c'],\n",
    "    showTags(){\n",
    "        this.tags.forEach(function(tag) {\n",
    "            // 由于在回调函数中使用this, this会指向容器对象\n",
    "            console.log(this, tag);\n",
    "        })\n",
    "    }\n",
    "}\n",
    "\n",
    "obj.showTags();"
   ]
  },
  {
   "cell_type": "markdown",
   "metadata": {},
   "source": [
    "> 但是通过箭头函数指定的回调函数, 则可以正常的使用this关键字."
   ]
  },
  {
   "cell_type": "code",
   "execution_count": 32,
   "metadata": {},
   "outputs": [
    {
     "name": "stdout",
     "output_type": "stream",
     "text": [
      "{\n",
      "  title: \u001b[32m'obj'\u001b[39m,\n",
      "  tags: [ \u001b[32m'a'\u001b[39m, \u001b[32m'b'\u001b[39m, \u001b[32m'c'\u001b[39m ],\n",
      "  showTags: \u001b[36m[Function: showTags]\u001b[39m\n",
      "} a\n",
      "{\n",
      "  title: \u001b[32m'obj'\u001b[39m,\n",
      "  tags: [ \u001b[32m'a'\u001b[39m, \u001b[32m'b'\u001b[39m, \u001b[32m'c'\u001b[39m ],\n",
      "  showTags: \u001b[36m[Function: showTags]\u001b[39m\n",
      "} b\n",
      "{\n",
      "  title: \u001b[32m'obj'\u001b[39m,\n",
      "  tags: [ \u001b[32m'a'\u001b[39m, \u001b[32m'b'\u001b[39m, \u001b[32m'c'\u001b[39m ],\n",
      "  showTags: \u001b[36m[Function: showTags]\u001b[39m\n",
      "} c\n"
     ]
    }
   ],
   "source": [
    "const obj = {\n",
    "    title: 'obj',\n",
    "    tags: ['a', 'b', 'c'],\n",
    "    showTags(){\n",
    "        this.tags.forEach(tag => {\n",
    "            console.log(this, tag);\n",
    "        })\n",
    "    }\n",
    "}\n",
    "\n",
    "obj.showTags();"
   ]
  },
  {
   "cell_type": "markdown",
   "metadata": {},
   "source": [
    "> 在类似`forEach`等函数中, 也可以通过`thisArg`参数指定`this`关键字的指向"
   ]
  },
  {
   "cell_type": "code",
   "execution_count": 34,
   "metadata": {},
   "outputs": [
    {
     "name": "stdout",
     "output_type": "stream",
     "text": [
      "{\n",
      "  title: \u001b[32m'obj'\u001b[39m,\n",
      "  tags: [ \u001b[32m'a'\u001b[39m, \u001b[32m'b'\u001b[39m, \u001b[32m'c'\u001b[39m ],\n",
      "  showTags: \u001b[36m[Function: showTags]\u001b[39m\n",
      "} a\n",
      "{\n",
      "  title: \u001b[32m'obj'\u001b[39m,\n",
      "  tags: [ \u001b[32m'a'\u001b[39m, \u001b[32m'b'\u001b[39m, \u001b[32m'c'\u001b[39m ],\n",
      "  showTags: \u001b[36m[Function: showTags]\u001b[39m\n",
      "} b\n",
      "{\n",
      "  title: \u001b[32m'obj'\u001b[39m,\n",
      "  tags: [ \u001b[32m'a'\u001b[39m, \u001b[32m'b'\u001b[39m, \u001b[32m'c'\u001b[39m ],\n",
      "  showTags: \u001b[36m[Function: showTags]\u001b[39m\n",
      "} c\n"
     ]
    }
   ],
   "source": [
    "const obj = {\n",
    "    title: 'obj',\n",
    "    tags: ['a', 'b', 'c'],\n",
    "    showTags(){\n",
    "        this.tags.forEach(function(tag) {\n",
    "            console.log(this, tag);\n",
    "        // 在匿名函数外, 此时this指向的是当前对象, 将当前对象作为参数\n",
    "        // 以指定匿名函数中的this\n",
    "        }, this)\n",
    "    }\n",
    "}\n",
    "\n",
    "obj.showTags();"
   ]
  },
  {
   "cell_type": "markdown",
   "metadata": {},
   "source": [
    "> 也可以在回调函数外声明一个指向当前对象的变量, 用以在回调函数内访问当前对象."
   ]
  },
  {
   "cell_type": "code",
   "execution_count": 35,
   "metadata": {},
   "outputs": [
    {
     "name": "stdout",
     "output_type": "stream",
     "text": [
      "{\n",
      "  title: \u001b[32m'obj'\u001b[39m,\n",
      "  tags: [ \u001b[32m'a'\u001b[39m, \u001b[32m'b'\u001b[39m, \u001b[32m'c'\u001b[39m ],\n",
      "  showTags: \u001b[36m[Function: showTags]\u001b[39m\n",
      "} a\n",
      "{\n",
      "  title: \u001b[32m'obj'\u001b[39m,\n",
      "  tags: [ \u001b[32m'a'\u001b[39m, \u001b[32m'b'\u001b[39m, \u001b[32m'c'\u001b[39m ],\n",
      "  showTags: \u001b[36m[Function: showTags]\u001b[39m\n",
      "} b\n",
      "{\n",
      "  title: \u001b[32m'obj'\u001b[39m,\n",
      "  tags: [ \u001b[32m'a'\u001b[39m, \u001b[32m'b'\u001b[39m, \u001b[32m'c'\u001b[39m ],\n",
      "  showTags: \u001b[36m[Function: showTags]\u001b[39m\n",
      "} c\n"
     ]
    }
   ],
   "source": [
    "const obj = {\n",
    "    title: 'obj',\n",
    "    tags: ['a', 'b', 'c'],\n",
    "    showTags(){\n",
    "        const self = this\n",
    "        this.tags.forEach(function(tag) {\n",
    "            console.log(self, tag);\n",
    "        })\n",
    "    }\n",
    "}\n",
    "\n",
    "obj.showTags();"
   ]
  },
  {
   "cell_type": "code",
   "execution_count": null,
   "metadata": {},
   "outputs": [],
   "source": []
  }
 ],
 "metadata": {
  "kernelspec": {
   "display_name": "JavaScript",
   "language": "javascript",
   "name": "jslab"
  },
  "language_info": {
   "file_extension": ".js",
   "mimetype": "text/javascript",
   "name": "javascript",
   "version": ""
  }
 },
 "nbformat": 4,
 "nbformat_minor": 2
}
