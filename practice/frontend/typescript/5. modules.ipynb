{
 "cells": [
  {
   "cell_type": "markdown",
   "metadata": {},
   "source": [
    "# 模块\n",
    "\n",
    "## 导出和导入\n",
    "\n",
    "TS中模块的概念也与python类似, 即一个ts文件即一个模块. 在每个模块中定义的类型只能在当前面模块中使用.\n",
    "\n",
    "如果一个模块中定义的类型希望能够被其他模块使用, 需要显示的声明`export`"
   ]
  },
  {
   "cell_type": "code",
   "execution_count": 1,
   "metadata": {},
   "outputs": [
    {
     "name": "stderr",
     "output_type": "stream",
     "text": [
      "3:14 - Cannot redeclare exported variable 'Shape'.\n",
      "7:14 - Cannot redeclare exported variable 'Circle'.\n",
      "10:9 - Cannot redeclare exported variable 'Shape'.\n",
      "10:9 - Export declaration conflicts with exported declaration of 'Shape'.\n",
      "10:16 - Cannot redeclare exported variable 'Circle'.\n",
      "10:16 - Export declaration conflicts with exported declaration of 'Circle'.\n"
     ]
    }
   ],
   "source": [
    "// shape.ts\n",
    "\n",
    "export class Shape { \n",
    "\n",
    "}\n",
    "\n",
    "export class Circle extends Shape{ \n",
    "\n",
    "}"
   ]
  },
  {
   "cell_type": "markdown",
   "metadata": {},
   "source": [
    "引入其他模块中的类, 使用`import`关键字"
   ]
  },
  {
   "cell_type": "code",
   "execution_count": 2,
   "metadata": {},
   "outputs": [
    {
     "name": "stderr",
     "output_type": "stream",
     "text": [
      "3:24 - Cannot find module './modules.ipynb#W0sZmlsZQ==' or its corresponding type declarations.\n",
      "4:34 - Cannot find module './modules.ipynb#W0sZmlsZQ==' or its corresponding type declarations.\n"
     ]
    }
   ],
   "source": [
    "// index.ts\n",
    "\n",
    "import { Circle } from \"./modules.ipynb#W0sZmlsZQ==\";\n",
    "import { Shape as myShape } from \"./modules.ipynb#W0sZmlsZQ==\";"
   ]
  },
  {
   "cell_type": "markdown",
   "metadata": {},
   "source": [
    "## 默认导出\n",
    "\n",
    "可以使用`default`关键字设置模块的默认导出类型, 在引入时可以省略`{}`\n",
    "\n",
    "```typescript\n",
    "// shape.js\n",
    "export default class Shape {\n",
    "\n",
    "}\n",
    "\n",
    "// index.js\n",
    "import Shape, { Circle } from \"./shape\";\n",
    "\n",
    "```"
   ]
  },
  {
   "cell_type": "markdown",
   "metadata": {},
   "source": [
    "## 通配符导入\n",
    "\n",
    "可以使用通配符一次性导入模块中的全部内容\n",
    "\n",
    "```typescript\n",
    "import * as Shape from \"./shape\";\n",
    "```"
   ]
  },
  {
   "cell_type": "markdown",
   "metadata": {},
   "source": [
    "## 二次导出\n",
    "\n",
    "假设在代码管理时为每个类单独创建文件, 并通过文件夹管理.\n",
    "\n",
    "shapes文件夹下包含:\n",
    "\n",
    "* shape.ts\n",
    "* Circle.ts\n",
    "* Square.ts\n",
    "\n",
    "如果在index.ts中需要使用`Circle`和`Square`就需要从两个不同的模块中进行导入.\n",
    "\n",
    "此时可以在shapes文件夹下创建一个`index.ts`文件, 并在其中重新导出两个类型\n",
    "\n",
    "```typescript\n",
    "export { Square } from './Square';\n",
    "export { Circle } from './Circle';\n",
    "export { Shape } from './shape';\n",
    "```\n",
    "\n",
    "此时在根目录的`index.ts`文件中导入就可以直接通过文件夹进行导入.\n",
    "\n",
    "```typescript\n",
    "import { Circle, Square, Shape } from './shapes'\n",
    "```"
   ]
  },
  {
   "cell_type": "markdown",
   "metadata": {},
   "source": []
  }
 ],
 "metadata": {
  "kernelspec": {
   "display_name": "TypeScript",
   "language": "typescript",
   "name": "tslab"
  },
  "language_info": {
   "codemirror_mode": {
    "mode": "typescript",
    "name": "javascript",
    "typescript": true
   },
   "file_extension": ".ts",
   "mimetype": "text/typescript",
   "name": "typescript",
   "version": "3.7.2"
  }
 },
 "nbformat": 4,
 "nbformat_minor": 2
}
